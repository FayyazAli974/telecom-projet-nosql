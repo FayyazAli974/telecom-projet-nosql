{
 "cells": [
  {
   "cell_type": "code",
   "execution_count": 1,
   "metadata": {},
   "outputs": [],
   "source": [
    "from cassandra.cluster import Cluster\n",
    "from pyspark import SparkContext\n",
    "from pyspark.sql import SQLContext\n",
    "import wget\n",
    "from pyspark.sql import SparkSession\n",
    "import os\n",
    "# Configuratins related to Cassandra connector & Cluster\n",
    "os.environ['PYSPARK_SUBMIT_ARGS'] = '--packages com.datastax.spark:spark-cassandra-connector_2.11:2.3.0 --conf spark.cassandra.connection.host=127.0.0.1 pyspark-shell'\n",
    "import re\n",
    "from pyspark.sql.functions import *\n",
    "import pandas as pd\n",
    "import matplotlib.pyplot as plt"
   ]
  },
  {
   "cell_type": "code",
   "execution_count": 2,
   "metadata": {},
   "outputs": [],
   "source": [
    "cluster = Cluster(['127.0.01'])\n",
    "session = cluster.connect()"
   ]
  },
  {
   "cell_type": "code",
   "execution_count": 3,
   "metadata": {},
   "outputs": [
    {
     "data": {
      "text/plain": [
       "<cassandra.cluster.ResultSet at 0x120137d68>"
      ]
     },
     "execution_count": 3,
     "metadata": {},
     "output_type": "execute_result"
    }
   ],
   "source": [
    "session.execute(\"\"\"\n",
    "    CREATE KEYSPACE IF NOT EXISTS Gdelt \n",
    "    WITH REPLICATION = \n",
    "    { 'class' : 'SimpleStrategy', 'replication_factor' : 1 }\"\"\"\n",
    ")"
   ]
  },
  {
   "cell_type": "code",
   "execution_count": 4,
   "metadata": {},
   "outputs": [],
   "source": [
    "session.set_keyspace('gdelt')"
   ]
  },
  {
   "cell_type": "code",
   "execution_count": 5,
   "metadata": {},
   "outputs": [
    {
     "data": {
      "text/plain": [
       "<cassandra.cluster.ResultSet at 0x1105656d8>"
      ]
     },
     "execution_count": 5,
     "metadata": {},
     "output_type": "execute_result"
    }
   ],
   "source": [
    "query = \"DROP TABLE masterfile\"\n",
    "session.execute(query)"
   ]
  },
  {
   "cell_type": "code",
   "execution_count": 6,
   "metadata": {},
   "outputs": [
    {
     "data": {
      "text/plain": [
       "<cassandra.cluster.ResultSet at 0x1203abdd8>"
      ]
     },
     "execution_count": 6,
     "metadata": {},
     "output_type": "execute_result"
    }
   ],
   "source": [
    "query = \"CREATE TABLE IF NOT EXISTS masterfile \\\n",
    "                                   (id int, hash text, url text, PRIMARY KEY (id))\"\n",
    "session.execute(query)"
   ]
  },
  {
   "cell_type": "code",
   "execution_count": 7,
   "metadata": {},
   "outputs": [],
   "source": [
    "fileName = '/Users/fayyazali/Desktop/MS Big Data - Telecom Paris/NoSQL/Projet GDELT/masterfilelist.txt'\n",
    "input_file = open(fileName, 'r')\n",
    "lines = input_file.readlines()\n",
    "input_file.close()"
   ]
  },
  {
   "cell_type": "code",
   "execution_count": 8,
   "metadata": {},
   "outputs": [],
   "source": [
    "i=1\n",
    "for line in lines:\n",
    "    columns = line.split(' ')\n",
    "    #if columns[] == \"\\xc2\\xa0\":\n",
    "    #    columns[7] = \"\"\n",
    "    if len(columns) == 3:\n",
    "        columns[2] = columns[2].rstrip(\"\\r\\n\")\n",
    "        #print(columns)\n",
    "        query = \"INSERT INTO masterfile (id, hash, url)\"\n",
    "        query = query + \" VALUES (%s, %s, %s)\"\n",
    "        session.execute(query, (int(columns[0]), columns[1], columns[2]))\n",
    "    \n",
    "    i = i+1"
   ]
  },
  {
   "cell_type": "code",
   "execution_count": 9,
   "metadata": {},
   "outputs": [
    {
     "data": {
      "text/plain": [
       "<cassandra.cluster.ResultSet at 0x1203a7e48>"
      ]
     },
     "execution_count": 9,
     "metadata": {},
     "output_type": "execute_result"
    }
   ],
   "source": [
    "query = \"CREATE CUSTOM INDEX url_idx ON gdelt.masterfile (url) USING 'org.apache.cassandra.index.sasi.SASIIndex' WITH OPTIONS = {'mode': 'CONTAINS', 'analyzer_class': 'org.apache.cassandra.index.sasi.analyzer.NonTokenizingAnalyzer', 'case_sensitive': 'false'};\"\n",
    "session.execute(query)"
   ]
  },
  {
   "cell_type": "code",
   "execution_count": 10,
   "metadata": {},
   "outputs": [],
   "source": [
    "query = \"SELECT * FROM masterfile WHERE url LIKE '%20181201%' LIMIT 20 ALLOW FILTERING;\"\n",
    "master_mois = session.execute(query)"
   ]
  },
  {
   "cell_type": "code",
   "execution_count": 11,
   "metadata": {},
   "outputs": [],
   "source": [
    "for row in master_mois:\n",
    "    wget.download(row.url, '/Users/fayyazali/Desktop/MS Big Data - Telecom Paris/NoSQL/Projet GDELT/data/')"
   ]
  },
  {
   "cell_type": "code",
   "execution_count": 12,
   "metadata": {},
   "outputs": [],
   "source": [
    "#spark = SparkSession.builder.appName('demo').master(\"local\").getOrCreate()\n",
    "#masterfile_spark = spark.read.format(\"org.apache.spark.sql.cassandra\").options(table=\"masterfile\", keyspace=\"gdelt\").load()\n",
    "sc = SparkContext(\"local\", \"gdelt\")"
   ]
  },
  {
   "cell_type": "code",
   "execution_count": 13,
   "metadata": {},
   "outputs": [],
   "source": [
    "sqlContext = SQLContext(sc)"
   ]
  },
  {
   "cell_type": "code",
   "execution_count": 14,
   "metadata": {},
   "outputs": [],
   "source": [
    "def load_and_get_table_df(keys_space_name, table_name):\n",
    "    table_df = sqlContext.read\\\n",
    "        .format(\"org.apache.spark.sql.cassandra\")\\\n",
    "        .options(table=table_name, keyspace=keys_space_name)\\\n",
    "        .load()\n",
    "    return table_df"
   ]
  },
  {
   "cell_type": "code",
   "execution_count": 15,
   "metadata": {},
   "outputs": [],
   "source": [
    "# Loading movies & ratings table data frames\n",
    "masterfile_spark = load_and_get_table_df(\"gdelt\", \"masterfile\")"
   ]
  },
  {
   "cell_type": "code",
   "execution_count": 16,
   "metadata": {},
   "outputs": [
    {
     "name": "stdout",
     "output_type": "stream",
     "text": [
      "+--------+--------------------+--------------------+\n",
      "|      id|                hash|                 url|\n",
      "+--------+--------------------+--------------------+\n",
      "| 7140530|4fb8fe4cb1874e7c9...|http://data.gdelt...|\n",
      "| 6502240|1f0111ab223e99688...|http://data.gdelt...|\n",
      "| 7997186|268807684f4ee6f7c...|http://data.gdelt...|\n",
      "|  134087|85edbbed442dcca19...|http://data.gdelt...|\n",
      "|  308686|e046df9bf237b79ef...|http://data.gdelt...|\n",
      "|  363843|2f987935bb4cc6ec4...|http://data.gdelt...|\n",
      "| 3573083|0a81ff4e298e1d9c9...|http://data.gdelt...|\n",
      "|   28069|1ca07605afbfeb864...|http://data.gdelt...|\n",
      "|   68563|93aa2f7153ce2e24a...|http://data.gdelt...|\n",
      "|  319952|d6a5d9c326bbe1062...|http://data.gdelt...|\n",
      "|  237266|06246011ba84b28e9...|http://data.gdelt...|\n",
      "|  129095|e52b67839ee8514c4...|http://data.gdelt...|\n",
      "|15994034|cdc9e1efde1fb9f84...|http://data.gdelt...|\n",
      "|13944615|3b58d6d2101f6fcfb...|http://data.gdelt...|\n",
      "|  149823|16e8c0f0980a5334f...|http://data.gdelt...|\n",
      "|  323435|63e5da877c5769d99...|http://data.gdelt...|\n",
      "|  145495|145e767b7a45dd97b...|http://data.gdelt...|\n",
      "|13989591|935ce2d1fcf111358...|http://data.gdelt...|\n",
      "|  131383|c07c2bfc715fc1bd0...|http://data.gdelt...|\n",
      "|  196087|7fdbda732912b8a0f...|http://data.gdelt...|\n",
      "+--------+--------------------+--------------------+\n",
      "only showing top 20 rows\n",
      "\n"
     ]
    }
   ],
   "source": [
    "masterfile_spark.show()"
   ]
  },
  {
   "cell_type": "code",
   "execution_count": 17,
   "metadata": {},
   "outputs": [],
   "source": [
    "from zipfile import ZipFile\n",
    "from os import listdir\n",
    "from os import remove"
   ]
  },
  {
   "cell_type": "code",
   "execution_count": 18,
   "metadata": {},
   "outputs": [],
   "source": [
    "liste_zip = listdir('/Users/fayyazali/Desktop/MS Big Data - Telecom Paris/NoSQL/Projet GDELT/data/')\n",
    "liste_zip = liste_zip[1:]\n",
    "for file in liste_zip:\n",
    "    with ZipFile('/Users/fayyazali/Desktop/MS Big Data - Telecom Paris/NoSQL/Projet GDELT/data/'+file, 'r') as zip: \n",
    "        zip.extractall('/Users/fayyazali/Desktop/MS Big Data - Telecom Paris/NoSQL/Projet GDELT/data_unzip/')\n",
    "        #remove('/Users/fayyazali/Desktop/MS Big Data - Telecom Paris/NoSQL/Projet GDELT/data/'+file)"
   ]
  },
  {
   "cell_type": "code",
   "execution_count": 19,
   "metadata": {},
   "outputs": [],
   "source": [
    "liste_csv = listdir('/Users/fayyazali/Desktop/MS Big Data - Telecom Paris/NoSQL/Projet GDELT/data_unzip/')\n",
    "liste_csv.remove('.DS_Store')\n",
    " \n",
    "liste_csv_mentions = []\n",
    "liste_csv_gkg = []\n",
    "liste_csv_events = [] \n",
    "\n",
    "for csv in liste_csv:\n",
    "    if 'mentions' in csv:\n",
    "        liste_csv_mentions.append(csv)\n",
    "    \n",
    "    if 'gkg' in csv:\n",
    "        liste_csv_gkg.append(csv)\n",
    "        \n",
    "    if 'export' in csv:\n",
    "        liste_csv_events.append(csv)"
   ]
  },
  {
   "cell_type": "code",
   "execution_count": 20,
   "metadata": {},
   "outputs": [
    {
     "data": {
      "text/plain": [
       "<cassandra.cluster.ResultSet at 0x1263b5438>"
      ]
     },
     "execution_count": 20,
     "metadata": {},
     "output_type": "execute_result"
    }
   ],
   "source": [
    "query = \"DROP TABLE mentions\"\n",
    "session.execute(query)"
   ]
  },
  {
   "cell_type": "code",
   "execution_count": 21,
   "metadata": {},
   "outputs": [
    {
     "data": {
      "text/plain": [
       "<cassandra.cluster.ResultSet at 0x1262b4358>"
      ]
     },
     "execution_count": 21,
     "metadata": {},
     "output_type": "execute_result"
    }
   ],
   "source": [
    "query = \"CREATE TABLE IF NOT EXISTS mentions \\\n",
    "                                   (GLOBALEVENTID int, EventTimeDate text, MentionTimeDate text, \\\n",
    "                                   MentionType int, MentionSourceName text, MentionIdentifier text, \\\n",
    "                                   SentenceID int, Actor1CharOffset int, Actor2CharOffset int, ActionCharOffset int, \\\n",
    "                                   InRawText int, Confidence int, MentionDocLen int, MentionDocTone float, \\\n",
    "                                   MentionDocTranslationInfo text, Extras text, \\\n",
    "                                   PRIMARY KEY (GLOBALEVENTID))\"\n",
    "session.execute(query)"
   ]
  },
  {
   "cell_type": "code",
   "execution_count": 22,
   "metadata": {},
   "outputs": [],
   "source": [
    "for csv in liste_csv_mentions:\n",
    "    input_file = open('/Users/fayyazali/Desktop/MS Big Data - Telecom Paris/NoSQL/Projet GDELT/data_unzip/'+csv, 'r')\n",
    "    i = 1\n",
    "    #print(i)             \n",
    "\n",
    "\n",
    "    for line in input_file:\n",
    "        columns = line.split('\\t')\n",
    "        #print(columns)\n",
    "        #if columns[7] == \"\\xc2\\xa0\":\n",
    "         #   columns[7] = \"\"\n",
    "        #columns[8] = columns[8].rstrip(\"\\r\\n\")\n",
    "        columns[0] = int(columns[0])\n",
    "        #columns[1] = int(columns[1])\n",
    "        #columns[2] = int(columns[2])\n",
    "        columns[3] = int(columns[3])\n",
    "        columns[6] = int(columns[6])\n",
    "    \n",
    "        query = \"INSERT INTO mentions (GLOBALEVENTID, EventTimeDate, MentionTimeDate, MentionType, MentionSourceName, \\\n",
    "        MentionIdentifier, SentenceID, Actor1CharOffset, Actor2CharOffset, ActionCharOffset, InRawText, \\\n",
    "        Confidence, MentionDocLen, MentionDocTone, MentionDocTranslationInfo, Extras)\"\n",
    "        query = query + \" VALUES (%s, %s, %s, %s, %s, %s, %s, %s, %s, %s, %s, %s, %s, %s, %s, %s )\"\n",
    "        session.execute(query, (columns[0], columns[1], columns[2], columns[3], \n",
    "                    columns[4], columns[5], columns[6], int(columns[7]), int(columns[8]),\n",
    "                   int(columns[9]), int(columns[10]), int(columns[11]), int(columns[12]),\n",
    "                        float(columns[13]), columns[14], columns[15]))\n",
    "    i = i + 1"
   ]
  },
  {
   "cell_type": "code",
   "execution_count": 128,
   "metadata": {},
   "outputs": [
    {
     "data": {
      "text/plain": [
       "<cassandra.cluster.ResultSet at 0x1276fc5c0>"
      ]
     },
     "execution_count": 128,
     "metadata": {},
     "output_type": "execute_result"
    }
   ],
   "source": [
    "query = \"DROP TABLE gkg\"\n",
    "session.execute(query)"
   ]
  },
  {
   "cell_type": "code",
   "execution_count": 129,
   "metadata": {},
   "outputs": [
    {
     "data": {
      "text/plain": [
       "<cassandra.cluster.ResultSet at 0x12622c320>"
      ]
     },
     "execution_count": 129,
     "metadata": {},
     "output_type": "execute_result"
    }
   ],
   "source": [
    "query = \"CREATE TABLE IF NOT EXISTS gkg \\\n",
    "                                   (GKGRECORDID text, DATE text, SourceCollectionIdentifier int, \\\n",
    "                                   SourceCommonName text, DocumentIdentifier text, Counts text, \\\n",
    "                                   V2Counts text, Themes text, V2Themes text, Locations text, \\\n",
    "                                   V2Locations text, Persons text, V2Persons text, Organizations text, \\\n",
    "                                   V2Organizations text, V2Tone text, Dates text, GCAM text, \\\n",
    "                                   SharingImage text, RelatedImages text, SocialImageEmbeds text,  \\\n",
    "                                   SocialVideoEmbeds text, Quotations text, AllNames text, Amounts text, \\\n",
    "                                   TranslationInfo text, Extras text, \\\n",
    "                                   PRIMARY KEY (GKGRECORDID))\"\n",
    "session.execute(query)"
   ]
  },
  {
   "cell_type": "code",
   "execution_count": 130,
   "metadata": {},
   "outputs": [],
   "source": [
    "for csv in liste_csv_gkg:\n",
    "    input_file = open('/Users/fayyazali/Desktop/MS Big Data - Telecom Paris/NoSQL/Projet GDELT/data_unzip/'+csv, 'r',encoding=\"utf8\", errors='ignore')\n",
    "    i = 1\n",
    "    #print(i)             \n",
    "\n",
    "\n",
    "    for line in input_file:\n",
    "        columns = line.split('\\t')\n",
    "        #columns = ';'.join(map(str,columns))\n",
    "        #columns = columns.split(\";\")\n",
    "        #print(len(columns))\n",
    "        #if columns[7] == \"\\xc2\\xa0\":\n",
    "         #   columns[7] = \"\"\n",
    "        #columns[8] = columns[8].rstrip(\"\\r\\n\")\n",
    "       \n",
    "    \n",
    "        query = \"INSERT INTO gkg (GKGRECORDID, DATE, SourceCollectionIdentifier, \\\n",
    "                                   SourceCommonName, DocumentIdentifier, Counts, \\\n",
    "                                   V2Counts, Themes, V2Themes, Locations, \\\n",
    "                                   V2Locations, Persons, V2Persons, Organizations, \\\n",
    "                                   V2Organizations, V2Tone, Dates, GCAM, \\\n",
    "                                   SharingImage, RelatedImages, SocialImageEmbeds,  \\\n",
    "                                   SocialVideoEmbeds, Quotations, AllNames, Amounts, \\\n",
    "                                   TranslationInfo, Extras)\"\n",
    "        query = query + \" VALUES (%s, %s, %s, %s, %s, %s, %s, %s, %s, %s, %s, %s, %s, %s, %s, %s, %s, \\\n",
    "        %s, %s, %s, %s, %s, %s, %s, %s, %s, %s)\"\n",
    "        session.execute(query, (columns[0], columns[1], int(columns[2]), columns[3], \n",
    "                    columns[4], columns[5], columns[6], columns[7], columns[8],\n",
    "                   columns[9], columns[10], columns[11], columns[12],\n",
    "                        columns[13], columns[14], columns[15], columns[16] , columns[17]\n",
    "                               , columns[18], columns[19], columns[20], columns[21]\n",
    "                               , columns[22], columns[23], columns[24], columns[25], columns[26]))\n",
    "        i = i + 1"
   ]
  },
  {
   "cell_type": "code",
   "execution_count": 29,
   "metadata": {},
   "outputs": [
    {
     "data": {
      "text/plain": [
       "<cassandra.cluster.ResultSet at 0x1264dfbe0>"
      ]
     },
     "execution_count": 29,
     "metadata": {},
     "output_type": "execute_result"
    }
   ],
   "source": [
    "query = \"DROP TABLE events\"\n",
    "session.execute(query)"
   ]
  },
  {
   "cell_type": "code",
   "execution_count": 30,
   "metadata": {},
   "outputs": [
    {
     "data": {
      "text/plain": [
       "<cassandra.cluster.ResultSet at 0x1264e8a58>"
      ]
     },
     "execution_count": 30,
     "metadata": {},
     "output_type": "execute_result"
    }
   ],
   "source": [
    "query = \"CREATE TABLE IF NOT EXISTS events \\\n",
    "                                   (GLOBALEVENTID int, SQLDATE int, MonthYear int, \\\n",
    "                                   Year int, FractionDate text, Actor1Code text, \\\n",
    "                                   Actor1Name text, Actor1CountryCode text, Actor1KnownGroupCode text, Actor1EthnicCode text, \\\n",
    "                                   Actor1Religion1Code text, Actor1Religion2Code text, Actor1Type1Code text, \\\n",
    "                                   Actor1Type2Code text, Actor1Type3Code text, Actor2Code text , \\\n",
    "                                   Actor2Name text, Actor2CountryCode text, Actor2KnownGroupCode text, Actor2EthnicCode text, \\\n",
    "                                   Actor2Religion1Code text, Actor2Religion2Code text, Actor2Type1Code text, \\\n",
    "                                   Actor2Type2Code text, Actor2Type3Code text, IsRootEvent text, EventCode text, \\\n",
    "                                   EventBaseCode text, EventRootCode text, QuadClass text, GoldsteinScale text, \\\n",
    "                                   NumMentions text, NumSources text, NumArticles text, AvgTone text, Actor1Geo_Type text, \\\n",
    "                                   Actor1Geo_FullName text, Actor1Geo_CountryCode text, Actor1Geo_ADM1Code text, \\\n",
    "                                   Actor1Geo_ADM2Code text, Actor1Geo_Lat text, Actor1Geo_Long text, Actor1Geo_FeatureID text, \\\n",
    "                                   Actor2Geo_Type text, Actor2Geo_FullName text, Actor2Geo_CountryCode text, \\\n",
    "                                   Actor2Geo_ADM1Code text, Actor2Geo_ADM2Code text, Actor2Geo_Lat text, \\\n",
    "                                   Actor2Geo_Long text, Actor2Geo_FeatureID text, ActionGeo_Type text, ActionGeo_FullName text, \\\n",
    "                                   ActionGeo_CountryCode text, ActionGeo_ADM1Code text, ActionGeo_ADM2Code text, ActionGeo_Lat text, \\\n",
    "                                   ActionGeo_Long text, ActionGeo_FeatureID text, DATEADDED text, SOURCEURL text,  \\\n",
    "                                   PRIMARY KEY (GLOBALEVENTID))\"\n",
    "session.execute(query)"
   ]
  },
  {
   "cell_type": "code",
   "execution_count": 31,
   "metadata": {},
   "outputs": [],
   "source": [
    "for csv in liste_csv_events:\n",
    "    input_file = open('/Users/fayyazali/Desktop/MS Big Data - Telecom Paris/NoSQL/Projet GDELT/data_unzip/'+csv, 'r',encoding=\"utf8\", errors='ignore')\n",
    "    i = 1\n",
    "    #print(i)             \n",
    "\n",
    "\n",
    "    for line in input_file:\n",
    "        columns = line.split('\\t')\n",
    "  \n",
    "        columns[0] = int(columns[0])\n",
    "        columns[1] = int(columns[1])\n",
    "        columns[2] = int(columns[2])\n",
    "        columns[3] = int(columns[3])\n",
    "    \n",
    "        query = \"INSERT INTO events (GLOBALEVENTID, SQLDATE, MonthYear, \\\n",
    "                                   Year, FractionDate, Actor1Code, \\\n",
    "                                   Actor1Name, Actor1CountryCode, Actor1KnownGroupCode, Actor1EthnicCode, \\\n",
    "                                   Actor1Religion1Code, Actor1Religion2Code, Actor1Type1Code, \\\n",
    "                                   Actor1Type2Code, Actor1Type3Code, Actor2Code, \\\n",
    "                                   Actor2Name, Actor2CountryCode, Actor2KnownGroupCode, Actor2EthnicCode, \\\n",
    "                                   Actor2Religion1Code, Actor2Religion2Code, Actor2Type1Code, \\\n",
    "                                   Actor2Type2Code, Actor2Type3Code, IsRootEvent, EventCode, \\\n",
    "                                   EventBaseCode, EventRootCode, QuadClass, GoldsteinScale, \\\n",
    "                                   NumMentions, NumSources, NumArticles, AvgTone, Actor1Geo_Type, \\\n",
    "                                   Actor1Geo_FullName, Actor1Geo_CountryCode, Actor1Geo_ADM1Code, \\\n",
    "                                   Actor1Geo_ADM2Code, Actor1Geo_Lat, Actor1Geo_Long, Actor1Geo_FeatureID, \\\n",
    "                                   Actor2Geo_Type, Actor2Geo_FullName, Actor2Geo_CountryCode, \\\n",
    "                                   Actor2Geo_ADM1Code, Actor2Geo_ADM2Code, Actor2Geo_Lat, \\\n",
    "                                   Actor2Geo_Long, Actor2Geo_FeatureID, ActionGeo_Type, ActionGeo_FullName, \\\n",
    "                                   ActionGeo_CountryCode, ActionGeo_ADM1Code, ActionGeo_ADM2Code, ActionGeo_Lat, \\\n",
    "                                   ActionGeo_Long, ActionGeo_FeatureID, DATEADDED, SOURCEURL)\"\n",
    "        query = query + \" VALUES (%s, %s, %s, %s, %s, %s, %s, %s, %s, %s, \\\n",
    "        %s, %s, %s, %s, %s, %s, %s, %s, %s, %s, \\\n",
    "        %s, %s, %s, %s, %s, %s, %s, %s, %s, %s, \\\n",
    "        %s, %s, %s, %s, %s, %s, %s, %s, %s, %s, \\\n",
    "        %s, %s, %s, %s, %s, %s, %s, %s, %s, %s, \\\n",
    "        %s, %s, %s, %s, %s, %s, %s, %s, %s, %s, \\\n",
    "        %s)\"\n",
    "        session.execute(query,(columns))\n",
    "        i = i + 1"
   ]
  },
  {
   "cell_type": "code",
   "execution_count": 225,
   "metadata": {},
   "outputs": [],
   "source": [
    "events_spark = load_and_get_table_df(\"gdelt\", \"events\")\n",
    "gkg_spark = load_and_get_table_df(\"gdelt\", \"gkg\")\n",
    "mentions_spark = load_and_get_table_df(\"gdelt\", \"mentions\")"
   ]
  },
  {
   "cell_type": "markdown",
   "metadata": {},
   "source": [
    "# afficher le nombre d’articles/évènements qu’il y a eu pour chaque triplet (jour, pays de l’évènement, langue de l’article)."
   ]
  },
  {
   "cell_type": "code",
   "execution_count": 34,
   "metadata": {},
   "outputs": [
    {
     "name": "stdout",
     "output_type": "stream",
     "text": [
      "+--------+-----+\n",
      "| SQLDATE|count|\n",
      "+--------+-----+\n",
      "|20181124|   50|\n",
      "|20181130|   27|\n",
      "|20181101|   54|\n",
      "|20171201|   74|\n",
      "|20181201| 8411|\n",
      "+--------+-----+\n",
      "\n"
     ]
    }
   ],
   "source": [
    "events_spark.groupby(\"SQLDATE\").count().show()"
   ]
  },
  {
   "cell_type": "code",
   "execution_count": 88,
   "metadata": {},
   "outputs": [
    {
     "name": "stdout",
     "output_type": "stream",
     "text": [
      "+--------+---------------------+-----+\n",
      "| SQLDATE|ActionGeo_CountryCode|count|\n",
      "+--------+---------------------+-----+\n",
      "|20181201|                   OS|    6|\n",
      "|20171201|                   VM|    7|\n",
      "|20181130|                   US|    3|\n",
      "|20181201|                   RQ|    2|\n",
      "|20181201|                   MY|   79|\n",
      "|20181201|                   BH|    8|\n",
      "|20181201|                   BT|    4|\n",
      "|20181201|                   BO|    3|\n",
      "|20181201|                   VC|    1|\n",
      "|20181130|                   NP|    6|\n",
      "|20181201|                   LY|    1|\n",
      "|20181201|                   MP|    3|\n",
      "|20181101|                   CI|    2|\n",
      "|20181201|                   TH|   15|\n",
      "|20181201|                   GT|    9|\n",
      "|20181201|                   AY|    1|\n",
      "|20181201|                   TZ|    6|\n",
      "|20181201|                   IS|  140|\n",
      "|20181201|                   SN|   21|\n",
      "|20171201|                   RS|    8|\n",
      "+--------+---------------------+-----+\n",
      "only showing top 20 rows\n",
      "\n"
     ]
    }
   ],
   "source": [
    "#events_spark.select('GLOBALEVENTID').show()\n",
    "events_spark.groupby(\"SQLDATE\",\"ActionGeo_CountryCode\").count().show()"
   ]
  },
  {
   "cell_type": "code",
   "execution_count": 36,
   "metadata": {},
   "outputs": [
    {
     "name": "stdout",
     "output_type": "stream",
     "text": [
      "+-------------------------+-----+\n",
      "|MentionDocTranslationInfo|count|\n",
      "+-------------------------+-----+\n",
      "|                         |25451|\n",
      "+-------------------------+-----+\n",
      "\n"
     ]
    }
   ],
   "source": [
    "mentions_spark.groupby('MentionDocTranslationInfo').count().show()"
   ]
  },
  {
   "cell_type": "code",
   "execution_count": 37,
   "metadata": {},
   "outputs": [],
   "source": [
    "from pyspark.sql.functions import udf\n",
    "suff = udf(lambda x: '.'.join(map(str,x.split('.')[1:])))\n",
    "langue_eng = udf(lambda x: 'eng' if x=='' else x)\n",
    "langue = udf(lambda x: 'eng' if x =='' else x.split(':')[1].split(';')[0])"
   ]
  },
  {
   "cell_type": "code",
   "execution_count": 38,
   "metadata": {},
   "outputs": [
    {
     "data": {
      "text/plain": [
       "'rus'"
      ]
     },
     "execution_count": 38,
     "metadata": {},
     "output_type": "execute_result"
    }
   ],
   "source": [
    "x='srclc:rus;eng:GT-RUS 1.0'\n",
    "x.split(':')[1].split(';')[0]"
   ]
  },
  {
   "cell_type": "code",
   "execution_count": 39,
   "metadata": {},
   "outputs": [
    {
     "name": "stdout",
     "output_type": "stream",
     "text": [
      "+-------+\n",
      "|Suffixe|\n",
      "+-------+\n",
      "|    com|\n",
      "|    com|\n",
      "|    com|\n",
      "|    com|\n",
      "|    com|\n",
      "|    com|\n",
      "|    com|\n",
      "|    com|\n",
      "|    com|\n",
      "|    com|\n",
      "|    com|\n",
      "|    com|\n",
      "|    net|\n",
      "|    com|\n",
      "| com.tw|\n",
      "|    com|\n",
      "|  co.uk|\n",
      "|     in|\n",
      "|    com|\n",
      "|  co.uk|\n",
      "+-------+\n",
      "only showing top 20 rows\n",
      "\n"
     ]
    }
   ],
   "source": [
    "mentions_spark = mentions_spark.withColumn(\"Suffixe\",suff(mentions_spark[\"MentionSourceName\"]))\n",
    "mentions_spark.select('Suffixe').show()"
   ]
  },
  {
   "cell_type": "code",
   "execution_count": 40,
   "metadata": {},
   "outputs": [
    {
     "name": "stdout",
     "output_type": "stream",
     "text": [
      "+------+\n",
      "|langue|\n",
      "+------+\n",
      "|   eng|\n",
      "|   eng|\n",
      "|   eng|\n",
      "|   eng|\n",
      "|   eng|\n",
      "|   eng|\n",
      "|   eng|\n",
      "|   eng|\n",
      "|   eng|\n",
      "|   eng|\n",
      "|   eng|\n",
      "|   eng|\n",
      "|   eng|\n",
      "|   eng|\n",
      "|   eng|\n",
      "|   eng|\n",
      "|   eng|\n",
      "|   eng|\n",
      "|   eng|\n",
      "|   eng|\n",
      "+------+\n",
      "only showing top 20 rows\n",
      "\n"
     ]
    }
   ],
   "source": [
    "mentions_spark = mentions_spark.withColumn(\"langue\",langue(mentions_spark[\"MentionDocTranslationInfo\"]))\n",
    "mentions_spark.select('langue').show()"
   ]
  },
  {
   "cell_type": "code",
   "execution_count": 297,
   "metadata": {},
   "outputs": [],
   "source": [
    "jme = events_spark.join(mentions_spark, events_spark[\"GLOBALEVENTID\"] == mentions_spark[\"GLOBALEVENTID\"])"
   ]
  },
  {
   "cell_type": "code",
   "execution_count": 42,
   "metadata": {},
   "outputs": [
    {
     "name": "stdout",
     "output_type": "stream",
     "text": [
      "+--------+---------------------+-------+-----+\n",
      "| SQLDATE|ActionGeo_CountryCode|Suffixe|count|\n",
      "+--------+---------------------+-------+-----+\n",
      "|20181201|                   US|    com|  186|\n",
      "|20181201|                   CH|    com|   27|\n",
      "|20181201|                   RS|    com|   25|\n",
      "|20181201|                   AR|    com|   24|\n",
      "|20181201|                   IN|    com|   22|\n",
      "|20181201|                   AS| com.au|   21|\n",
      "|20181201|                   KU|    com|   17|\n",
      "|20181201|                   SA|    com|   17|\n",
      "|20181201|                   FR|    com|   17|\n",
      "|20181201|                   AJ|     am|   16|\n",
      "|20181201|                   NI|    com|   14|\n",
      "|20181201|                   SY|    com|   12|\n",
      "|20181201|                     |    com|   10|\n",
      "|20181201|                   CA|    com|   10|\n",
      "|20181201|                   IS|    com|   10|\n",
      "|20181201|                   KN|    com|    9|\n",
      "|20171201|                   RS|    com|    8|\n",
      "|20181201|                   GM|    com|    7|\n",
      "|20181201|                   UK|    com|    7|\n",
      "|20181201|                   MY| com.my|    5|\n",
      "+--------+---------------------+-------+-----+\n",
      "only showing top 20 rows\n",
      "\n"
     ]
    }
   ],
   "source": [
    "jme.groupby(\"SQLDATE\",\"ActionGeo_CountryCode\",\"Suffixe\").count().sort('count', ascending=False).show()"
   ]
  },
  {
   "cell_type": "code",
   "execution_count": 43,
   "metadata": {},
   "outputs": [
    {
     "name": "stdout",
     "output_type": "stream",
     "text": [
      "+--------+---------------------+------+-----+\n",
      "| SQLDATE|ActionGeo_CountryCode|langue|count|\n",
      "+--------+---------------------+------+-----+\n",
      "|20181201|                   US|   eng|  197|\n",
      "|20181201|                   CH|   eng|   28|\n",
      "|20181201|                   AR|   eng|   27|\n",
      "|20181201|                   RS|   eng|   27|\n",
      "|20181201|                   FR|   eng|   26|\n",
      "|20181201|                   AS|   eng|   22|\n",
      "|20181201|                   IN|   eng|   22|\n",
      "|20181201|                   KU|   eng|   20|\n",
      "|20181201|                   NI|   eng|   20|\n",
      "|20181201|                   SA|   eng|   18|\n",
      "|20181201|                   AJ|   eng|   16|\n",
      "|20181201|                     |   eng|   16|\n",
      "|20181201|                   SY|   eng|   13|\n",
      "|20181201|                   JA|   eng|   11|\n",
      "|20181201|                   CA|   eng|   11|\n",
      "|20181201|                   IS|   eng|   10|\n",
      "|20181201|                   KN|   eng|   10|\n",
      "|20181201|                   UK|   eng|    9|\n",
      "|20171201|                   RS|   eng|    8|\n",
      "|20181201|                   GM|   eng|    7|\n",
      "+--------+---------------------+------+-----+\n",
      "only showing top 20 rows\n",
      "\n"
     ]
    }
   ],
   "source": [
    "jme.groupby(\"SQLDATE\",\"ActionGeo_CountryCode\",\"langue\").count().sort('count', ascending=False).show()"
   ]
  },
  {
   "cell_type": "code",
   "execution_count": 44,
   "metadata": {},
   "outputs": [
    {
     "name": "stdout",
     "output_type": "stream",
     "text": [
      "+--------+---------------------+-------+-----+\n",
      "| SQLDATE|ActionGeo_CountryCode|Suffixe|count|\n",
      "+--------+---------------------+-------+-----+\n",
      "|20181201|                   RS|    com|   25|\n",
      "|20181201|                   AR|    com|   24|\n",
      "|20181201|                   IN|    com|   22|\n",
      "|20181201|                   AS| com.au|   21|\n",
      "|20181201|                   AJ|     am|   16|\n",
      "|20181201|                   SY|    com|   12|\n",
      "|20181201|                   IS|    com|   10|\n",
      "|20181201|                     |    com|   10|\n",
      "|20181201|                   CA|    com|   10|\n",
      "|20181201|                   UK|    com|    7|\n",
      "|20181201|                   YM|    com|    5|\n",
      "|20181201|                   MU|  co.uk|    4|\n",
      "|20181201|                   JA|    com|    4|\n",
      "|20181201|                   JA|    org|    4|\n",
      "|20181201|                   NI|     ng|    4|\n",
      "|20181201|                   KU|  co.uk|    3|\n",
      "|20181201|                   KS|  co.nz|    3|\n",
      "|20181201|                   NZ|  pe.ca|    2|\n",
      "|20181201|                   AM|     am|    2|\n",
      "|20181201|                   FR| com.au|    2|\n",
      "+--------+---------------------+-------+-----+\n",
      "only showing top 20 rows\n",
      "\n"
     ]
    }
   ],
   "source": [
    "df = jme.groupby(\"SQLDATE\",\"ActionGeo_CountryCode\",\"Suffixe\").count().limit(50).sort('count', ascending=False)\n",
    "df.show()"
   ]
  },
  {
   "cell_type": "code",
   "execution_count": 45,
   "metadata": {},
   "outputs": [],
   "source": [
    "df_pandas = df.toPandas()"
   ]
  },
  {
   "cell_type": "code",
   "execution_count": 46,
   "metadata": {},
   "outputs": [
    {
     "data": {
      "text/plain": [
       "<matplotlib.axes._subplots.AxesSubplot at 0x126556be0>"
      ]
     },
     "execution_count": 46,
     "metadata": {},
     "output_type": "execute_result"
    },
    {
     "data": {
      "image/png": "[encoded data removed]",
      "text/plain": [
       "<Figure size 432x288 with 1 Axes>"
      ]
     },
     "metadata": {
      "needs_background": "light"
     },
     "output_type": "display_data"
    }
   ],
   "source": [
    "df_pandas['count'].plot()"
   ]
  },
  {
   "cell_type": "markdown",
   "metadata": {},
   "source": [
    "# 2- Pour un pays donné en paramètre, affichez les évènements qui y ont eu place triées par le nombre de mentions (tri décroissant); permettez une agrégation par jour/mois/année"
   ]
  },
  {
   "cell_type": "code",
   "execution_count": 264,
   "metadata": {},
   "outputs": [
    {
     "name": "stdout",
     "output_type": "stream",
     "text": [
      "+--------+-----------+\n",
      "| SQLDATE|nummentions|\n",
      "+--------+-----------+\n",
      "|20181201|          1|\n",
      "|20181201|          5|\n",
      "|20181201|         10|\n",
      "|20181201|          2|\n",
      "|20181201|          6|\n",
      "|20181201|          1|\n",
      "|20181201|          1|\n",
      "|20181201|          5|\n",
      "|20181201|         10|\n",
      "|20181201|         51|\n",
      "|20181201|          6|\n",
      "|20181201|         67|\n",
      "|20181201|          2|\n",
      "|20181201|         20|\n",
      "|20181201|         10|\n",
      "|20181201|         20|\n",
      "|20181201|          2|\n",
      "|20181201|          5|\n",
      "|20181201|          6|\n",
      "|20181201|         10|\n",
      "+--------+-----------+\n",
      "only showing top 20 rows\n",
      "\n"
     ]
    }
   ],
   "source": [
    "Pays = \"FR\"\n",
    "jme.filter(f.col(\"ActionGeo_CountryCode\") == Pays).select(\"SQLDATE\",\"nummentions\").show()"
   ]
  },
  {
   "cell_type": "code",
   "execution_count": 307,
   "metadata": {},
   "outputs": [],
   "source": [
    "Month_q2 = udf(lambda x: str(x)[4:6])\n",
    "Jour_q2 = udf(lambda x: str(x)[6:9])\n",
    "\n",
    "#jme.select(\"SQLDATE\").show()\n",
    "jme = jme.withColumn(\"Mois\",Month_q2(\"SQLDATE\"))\n",
    "jme = jme.withColumn(\"Jour\",Jour_q2(\"SQLDATE\"))"
   ]
  },
  {
   "cell_type": "code",
   "execution_count": 266,
   "metadata": {},
   "outputs": [
    {
     "name": "stdout",
     "output_type": "stream",
     "text": [
      "+----+----+----+----------------+\n",
      "|Year|Mois|Jour|sum(nummentions)|\n",
      "+----+----+----+----------------+\n",
      "|2018|  12|  01|           283.0|\n",
      "+----+----+----+----------------+\n",
      "\n"
     ]
    }
   ],
   "source": [
    "import pyspark.sql.functions as f\n",
    "\n",
    "jme.filter(f.col(\"ActionGeo_CountryCode\") == Pays) \\\n",
    ".groupby(\"Year\",\"Mois\",\"Jour\") \\\n",
    ".agg({\"nummentions\":'sum'}) \\\n",
    ".sort('sum(nummentions)', ascending=False) \\\n",
    ".show()"
   ]
  },
  {
   "cell_type": "markdown",
   "metadata": {},
   "source": [
    "# pour une source de donnés passée en paramètre (gkg.SourceCommonName) affichez les thèmes, personnes, lieux dont les articles de cette sources parlent ainsi que le le nombre d’articles et le ton moyen des articles (pour chaque thème/personne/lieu); permettez une agrégation par jour/mois/année."
   ]
  },
  {
   "cell_type": "code",
   "execution_count": 192,
   "metadata": {},
   "outputs": [],
   "source": [
    "sourcecommonname = 'timesdaily.com'"
   ]
  },
  {
   "cell_type": "code",
   "execution_count": 194,
   "metadata": {},
   "outputs": [
    {
     "name": "stdout",
     "output_type": "stream",
     "text": [
      "+--------------------+\n",
      "|         v2locations|\n",
      "+--------------------+\n",
      "|                    |\n",
      "|                    |\n",
      "|1#United States#U...|\n",
      "|                    |\n",
      "|                    |\n",
      "|2#Texas, United S...|\n",
      "|4#Buenos Aires, D...|\n",
      "|1#United Kingdom#...|\n",
      "|3#White House, Di...|\n",
      "|                    |\n",
      "|4#Dawson Creek, B...|\n",
      "|2#Kentucky, Unite...|\n",
      "|3#East Hampton, C...|\n",
      "|1#Australians#AS#...|\n",
      "|4#Montreal, Quebe...|\n",
      "|3#Wasilla, Alaska...|\n",
      "|2#Virginia, Unite...|\n",
      "|2#Missouri, Unite...|\n",
      "|4#Istanbul, Istan...|\n",
      "|2#Texans, United ...|\n",
      "+--------------------+\n",
      "only showing top 20 rows\n",
      "\n"
     ]
    }
   ],
   "source": [
    "gkg_spark.select(\"v2locations\").show()"
   ]
  },
  {
   "cell_type": "code",
   "execution_count": 226,
   "metadata": {},
   "outputs": [
    {
     "name": "stdout",
     "output_type": "stream",
     "text": [
      "+--------------+\n",
      "|          DATE|\n",
      "+--------------+\n",
      "|20181201173000|\n",
      "|20181201033000|\n",
      "|20181201003000|\n",
      "|20181201003000|\n",
      "|20181201033000|\n",
      "|20181201033000|\n",
      "|20181201173000|\n",
      "|20181201150000|\n",
      "|20181201003000|\n",
      "|20181201033000|\n",
      "|20181201033000|\n",
      "|20181201003000|\n",
      "|20181201173000|\n",
      "|20181201173000|\n",
      "|20181201033000|\n",
      "|20181201003000|\n",
      "|20181201003000|\n",
      "|20181201150000|\n",
      "|20181201033000|\n",
      "|20181201150000|\n",
      "+--------------+\n",
      "only showing top 20 rows\n",
      "\n"
     ]
    }
   ],
   "source": [
    "split_annee = udf(lambda x: x[0:4])\n",
    "split_mois = udf(lambda x: x[4:6])\n",
    "split_jour = udf(lambda x: x[7:9])\n",
    "\n",
    "\n",
    "gkg_spark.select(\"DATE\").show()\n",
    "gkg_spark = gkg_spark.withColumn(\"Annee\",split_annee(\"DATE\"))\n",
    "gkg_spark = gkg_spark.withColumn(\"Mois\",split_mois(\"DATE\"))\n",
    "gkg_spark = gkg_spark.withColumn(\"jour\",split_jour(\"DATE\"))"
   ]
  },
  {
   "cell_type": "code",
   "execution_count": 227,
   "metadata": {},
   "outputs": [
    {
     "name": "stdout",
     "output_type": "stream",
     "text": [
      "root\n",
      " |-- sourcecommonname: string (nullable = true)\n",
      " |-- split themes: array (nullable = true)\n",
      " |    |-- element: string (containsNull = true)\n",
      " |-- v2tone_m: string (nullable = true)\n",
      " |-- Annee: string (nullable = true)\n",
      " |-- Mois: string (nullable = true)\n",
      " |-- jour: string (nullable = true)\n",
      "\n",
      "+--------------------+--------------------+------------------+-----+----+----+\n",
      "|    sourcecommonname|        split themes|          v2tone_m|Annee|Mois|jour|\n",
      "+--------------------+--------------------+------------------+-----+----+----+\n",
      "|      9and10news.com|[TAX_FNCACT, TAX_...| -7.00636942675159| 2018|  12|  11|\n",
      "|       wfnc640am.com|[CRIME_COMMON_ROB...| -2.19435736677116| 2018|  12|  10|\n",
      "|          iheart.com|     [GEN_HOLIDAY, ]|  1.26582278481013| 2018|  12|  10|\n",
      "|       mmajunkie.com|                  []| -1.07692307692308| 2018|  12|  10|\n",
      "|        gwdtoday.com|[CRISISLEX_T11_UP...|-0.564971751412429| 2018|  12|  10|\n",
      "|swimmingworldmaga...|[TAX_FNCACT, TAX_...|  2.10643015521064| 2018|  12|  10|\n",
      "|hometownstations.com|[LEADER, TAX_FNCA...| 0.177619893428064| 2018|  12|  11|\n",
      "|bournemouthecho.c...|[LEADER, TAX_FNCA...|  2.50836120401338| 2018|  12|  11|\n",
      "|          hot102.net|[TAX_WORLDMAMMALS...|               0.0| 2018|  12|  10|\n",
      "|      timesdaily.com|[WB_1458_HEALTH_P...| -8.16326530612245| 2018|  12|  10|\n",
      "|         thestar.com|[ENV_OIL, NATURAL...| -4.76190476190476| 2018|  12|  10|\n",
      "|     petaluma360.com|[URBAN, TAX_FNCAC...|  2.42537313432836| 2018|  12|  10|\n",
      "|           fox61.com|[GENERAL_HEALTH, ...|  3.67647058823529| 2018|  12|  11|\n",
      "|         stuff.co.nz|[TAX_FNCACT, TAX_...| -2.07715133531157| 2018|  12|  11|\n",
      "|     languagehat.com|[AFFECT, CRISISLE...| -1.78372352285396| 2018|  12|  10|\n",
      "| heraldmailmedia.com|[NATURAL_DISASTER...| -5.46075085324232| 2018|  12|  10|\n",
      "|            wtkr.com|[SECURITY_SERVICE...| -6.19765494137353| 2018|  12|  10|\n",
      "|city-countyobserv...|                  []| 0.940438871473354| 2018|  12|  11|\n",
      "|      arabherald.com|[TAX_FNCACT, TAX_...|  3.57142857142857| 2018|  12|  10|\n",
      "| timesenterprise.com|[CRISISLEX_CRISIS...| 0.263939293962388| 2018|  12|  11|\n",
      "+--------------------+--------------------+------------------+-----+----+----+\n",
      "only showing top 20 rows\n",
      "\n"
     ]
    }
   ],
   "source": [
    "split_tone = udf(lambda x: float(x.split(',')[0]))\n",
    "from pyspark.sql.functions import split, regexp_replace\n",
    "\n",
    "\n",
    "q3_1 = gkg_spark.withColumn(\"split themes\",split(regexp_replace(\"themes\", r\"(^\\[\\[\\[)|(\\]\\]\\]$)\", \"\"), \";\")).withColumn(\"v2tone_m\",split_tone(\"v2tone\")) \\\n",
    ".select(\"sourcecommonname\",\"split themes\",\"v2tone_m\",\"Annee\",\"Mois\",\"jour\")\n",
    "\n",
    "\n",
    "q3_1.printSchema()\n",
    "q3_1.show()"
   ]
  },
  {
   "cell_type": "code",
   "execution_count": 229,
   "metadata": {
    "scrolled": true
   },
   "outputs": [
    {
     "name": "stdout",
     "output_type": "stream",
     "text": [
      "+----------------+--------------------+-----------------+-----+----+----+\n",
      "|sourcecommonname|        split themes|         v2tone_m|Annee|Mois|jour|\n",
      "+----------------+--------------------+-----------------+-----+----+----+\n",
      "|  timesdaily.com|[WB_1458_HEALTH_P...|-8.16326530612245| 2018|  12|  10|\n",
      "|  timesdaily.com|[SECURITY_SERVICE...|-8.38323353293413| 2018|  12|  10|\n",
      "|  timesdaily.com|[NATURAL_DISASTER...|-5.46075085324232| 2018|  12|  10|\n",
      "|  timesdaily.com|                  []| 1.36476426799007| 2018|  12|  11|\n",
      "|  timesdaily.com|[NATURAL_DISASTER...|-5.07748104187273| 2018|  12|  10|\n",
      "|  timesdaily.com|                  []| 1.16550116550117| 2018|  12|  10|\n",
      "+----------------+--------------------+-----------------+-----+----+----+\n",
      "\n",
      "+--------------------+-----+----+----+-----------------------+------------------+\n",
      "|              themes|annee|jour|mois|count(sourcecommonname)|     avg(v2tone_m)|\n",
      "+--------------------+-----+----+----+-----------------------+------------------+\n",
      "|                    | 2018|  10|  12|                      5|-5.183845913734092|\n",
      "|                KILL| 2018|  10|  12|                      3|-6.307155142683061|\n",
      "|SOC_POINTSOFINTEREST| 2018|  10|  12|                      3|-6.307155142683061|\n",
      "|CRISISLEX_C07_SAFETY| 2018|  10|  12|                      3|-6.307155142683061|\n",
      "|   SECURITY_SERVICES| 2018|  10|  12|                      3|-6.307155142683061|\n",
      "|           EDUCATION| 2018|  10|  12|                      3|-6.307155142683061|\n",
      "|WB_621_HEALTH_NUT...| 2018|  10|  12|                      3|  -6.2338324004125|\n",
      "|          TAX_FNCACT| 2018|  10|  12|                      3|-6.307155142683061|\n",
      "|MANMADE_DISASTER_...| 2018|  10|  12|                      3|-6.307155142683061|\n",
      "|    TAX_FNCACT_CHIEF| 2018|  10|  12|                      3|-6.307155142683061|\n",
      "|CRISISLEX_CRISISL...| 2018|  10|  12|                      3|-6.307155142683061|\n",
      "|TAX_FNCACT_POLICE...| 2018|  10|  12|                      3|-6.307155142683061|\n",
      "|   TAX_FNCACT_POLICE| 2018|  10|  12|                      3|-6.307155142683061|\n",
      "|               TRIAL| 2018|  10|  12|                      2| -6.73035728740343|\n",
      "|SOC_POINTSOFINTER...| 2018|  10|  12|                      2|-5.269115947557525|\n",
      "|   WB_2299_PIPELINES| 2018|  10|  12|                      2|-5.269115947557525|\n",
      "|CRISISLEX_T01_CAU...| 2018|  10|  12|                      2|-5.269115947557525|\n",
      "|CRISISLEX_T11_UPD...| 2018|  10|  12|                      2| -6.73035728740343|\n",
      "|NATURAL_DISASTER_...| 2018|  10|  12|                      2|-5.269115947557525|\n",
      "|  TAX_WORLDFISH_FISH| 2018|  10|  12|                      2|-5.269115947557525|\n",
      "+--------------------+-----+----+----+-----------------------+------------------+\n",
      "only showing top 20 rows\n",
      "\n"
     ]
    }
   ],
   "source": [
    "from pyspark.sql.functions import explode\n",
    "from pyspark.sql.types import IntegerType\n",
    "from pyspark.sql.types import DoubleType\n",
    "from pyspark.sql.types import FloatType\n",
    "from pyspark.sql.functions import collect_list\n",
    "\n",
    "\n",
    "\n",
    "q3_1.filter(f.col('sourcecommonname') == sourcecommonname).show()\n",
    "\n",
    "\n",
    "q3_1_1 = q3_1.filter(f.col('sourcecommonname') == sourcecommonname) \\\n",
    ".select(explode(\"split themes\").alias('themes'),\"v2tone_m\",\"sourcecommonname\",\"annee\",\"mois\",\"jour\") \\\n",
    ".groupBy('themes','annee','mois','jour') \\\n",
    ".agg({\"sourcecommonname\":'count' , \"v2tone_m\":'avg'}) \\\n",
    ".sort('count(sourcecommonname)', ascending = False) \\\n",
    ".show()"
   ]
  },
  {
   "cell_type": "code",
   "execution_count": 231,
   "metadata": {},
   "outputs": [
    {
     "name": "stdout",
     "output_type": "stream",
     "text": [
      "+--------------------+-----+----+----+-----------------------+------------------+\n",
      "|             Persons|annee|mois|jour|count(sourcecommonname)|     avg(v2tone_m)|\n",
      "+--------------------+-----+----+----+-----------------------+------------------+\n",
      "|         sarah palin| 2018|  12|  10|                      2|-5.269115947557525|\n",
      "|         bill walker| 2018|  12|  10|                      2|-5.269115947557525|\n",
      "|        ginny grimes| 2018|  12|  10|                      2|-5.269115947557525|\n",
      "|       michael burgy| 2018|  12|  10|                      2|-5.269115947557525|\n",
      "|         sadie blake| 2018|  12|  10|                      2|-5.269115947557525|\n",
      "|      brandon slaton| 2018|  12|  10|                      2|-5.269115947557525|\n",
      "|         botham jean| 2018|  12|  10|                      1| -8.38323353293413|\n",
      "|        amber guyger| 2018|  12|  10|                      1| -8.38323353293413|\n",
      "|     jim bridenstine| 2018|  12|  11|                      1|  1.36476426799007|\n",
      "|         los angeles| 2018|  12|  10|                      1| -5.46075085324232|\n",
      "|        april pearce| 2018|  12|  10|                      1| -5.07748104187273|\n",
      "|   jennifer kelleher| 2018|  12|  10|                      1| -5.46075085324232|\n",
      "|       sheila bailey| 2018|  12|  10|                      1| -5.46075085324232|\n",
      "|          renee hall| 2018|  12|  10|                      1| -8.38323353293413|\n",
      "|                    | 2018|  12|  10|                      1| -8.16326530612245|\n",
      "|      kevin hennessy| 2018|  12|  10|                      1|  1.16550116550117|\n",
      "|       mark thiessen| 2018|  12|  10|                      1| -5.46075085324232|\n",
      "|sarah huckabee sa...| 2018|  12|  10|                      1| -5.07748104187273|\n",
      "|    thomas zurbuchen| 2018|  12|  11|                      1|  1.36476426799007|\n",
      "|     laquan mcdonald| 2018|  12|  10|                      1| -8.38323353293413|\n",
      "+--------------------+-----+----+----+-----------------------+------------------+\n",
      "only showing top 20 rows\n",
      "\n"
     ]
    }
   ],
   "source": [
    "q3_2 = gkg_spark.withColumn(\"split Persons\",split(regexp_replace(\"Persons\", r\"(^\\[\\[\\[)|(\\]\\]\\]$)\", \"\"), \";\")).withColumn(\"v2tone_m\",split_tone(\"v2tone\")) \\\n",
    ".select(\"sourcecommonname\",\"split Persons\",\"v2tone_m\",'annee','mois','jour')\n",
    "\n",
    "q3_2_1 = q3_2.filter(f.col('sourcecommonname') == sourcecommonname) \\\n",
    ".select(explode(\"split Persons\").alias('Persons'),\"v2tone_m\",\"sourcecommonname\",'annee','mois','jour') \\\n",
    ".groupBy('Persons','annee','mois','jour') \\\n",
    ".agg({\"sourcecommonname\":'count' , \"v2tone_m\":'avg'}) \\\n",
    ".sort('count(sourcecommonname)', ascending = False) \\\n",
    ".show()"
   ]
  },
  {
   "cell_type": "code",
   "execution_count": 233,
   "metadata": {},
   "outputs": [],
   "source": [
    "split_lieu = udf(lambda x:  x.split('#')[1].split(',')[0] if len(x) >= 1 else x)\n",
    "\n",
    "q3_3 = gkg_spark.withColumn(\"split Locations\",split(regexp_replace(\"Locations\", r\"(^\\[\\[\\[)|(\\]\\]\\]$)\", \"\"), \";\")).withColumn(\"v2tone_m\",split_tone(\"v2tone\")) \\\n",
    ".select(\"sourcecommonname\",\"split Locations\",\"v2tone_m\",'annee','mois','jour')"
   ]
  },
  {
   "cell_type": "code",
   "execution_count": 234,
   "metadata": {},
   "outputs": [
    {
     "name": "stdout",
     "output_type": "stream",
     "text": [
      "+--------------------+-----+----+----+-----------------------+------------------+\n",
      "|         Locations_2|annee|mois|jour|count(sourcecommonname)|     avg(v2tone_m)|\n",
      "+--------------------+-----+----+----+-----------------------+------------------+\n",
      "|              Kodiak| 2018|  12|  10|                      2|-5.269115947557525|\n",
      "|          Washington| 2018|  12|  10|                      2|-5.269115947557525|\n",
      "|               Kenai| 2018|  12|  10|                      2|-5.269115947557525|\n",
      "|           Anchorage| 2018|  12|  10|                      2|-5.269115947557525|\n",
      "|              Alaska| 2018|  12|  10|                      2|-5.269115947557525|\n",
      "|             Wasilla| 2018|  12|  10|                      1| -5.46075085324232|\n",
      "|             Olympia| 2018|  12|  10|                      1| -5.46075085324232|\n",
      "|             Chicago| 2018|  12|  10|                      1| -8.38323353293413|\n",
      "|         White House| 2018|  12|  10|                      1| -5.07748104187273|\n",
      "|       Kodiak Island| 2018|  12|  10|                      1| -5.46075085324232|\n",
      "|       Dallas County| 2018|  12|  10|                      1| -8.38323353293413|\n",
      "|                    | 2018|  12|  10|                      1| -8.16326530612245|\n",
      "|       Alaska Island| 2018|  12|  10|                      1| -5.07748104187273|\n",
      "|             Alyeska| 2018|  12|  10|                      1| -5.07748104187273|\n",
      "|              Oregon| 2018|  12|  10|                      1| -5.46075085324232|\n",
      "|               India| 2018|  12|  11|                      1|  1.36476426799007|\n",
      "|           Fairbanks| 2018|  12|  10|                      1| -5.07748104187273|\n",
      "|              Denver| 2018|  12|  10|                      1|  1.16550116550117|\n",
      "|       United States| 2018|  12|  10|                      1| -5.07748104187273|\n",
      "|United Arab Emirates| 2018|  12|  11|                      1|  1.36476426799007|\n",
      "+--------------------+-----+----+----+-----------------------+------------------+\n",
      "only showing top 20 rows\n",
      "\n"
     ]
    }
   ],
   "source": [
    "q3_3_1 = q3_3.filter(f.col('sourcecommonname') == sourcecommonname) \\\n",
    ".select(explode(\"split Locations\").alias('Locations'),\"v2tone_m\",\"sourcecommonname\",\"annee\",\"mois\",\"jour\") \\\n",
    ".withColumn('Locations_2',split_lieu('Locations')) \\\n",
    ".groupBy('Locations_2','annee','mois','jour') \\\n",
    ".agg({\"sourcecommonname\":'count' , \"v2tone_m\":'avg'}) \\\n",
    ".sort('count(sourcecommonname)', ascending = False) \\\n",
    ".show()"
   ]
  },
  {
   "cell_type": "markdown",
   "metadata": {},
   "source": [
    "# dresser la cartographie des relations entre les pays d’après le ton des articles : pour chaque paire (pays1, pays2), calculer le nombre d’article, le ton moyen (aggrégations sur Année/Mois/Jour, filtrage par pays ou carré de coordonnées)"
   ]
  },
  {
   "cell_type": "code",
   "execution_count": 280,
   "metadata": {},
   "outputs": [
    {
     "name": "stdout",
     "output_type": "stream",
     "text": [
      "root\n",
      " |-- globaleventid: integer (nullable = true)\n",
      " |-- actiongeo_adm1code: string (nullable = true)\n",
      " |-- actiongeo_adm2code: string (nullable = true)\n",
      " |-- actiongeo_countrycode: string (nullable = true)\n",
      " |-- actiongeo_featureid: string (nullable = true)\n",
      " |-- actiongeo_fullname: string (nullable = true)\n",
      " |-- actiongeo_lat: string (nullable = true)\n",
      " |-- actiongeo_long: string (nullable = true)\n",
      " |-- actiongeo_type: string (nullable = true)\n",
      " |-- actor1code: string (nullable = true)\n",
      " |-- actor1countrycode: string (nullable = true)\n",
      " |-- actor1ethniccode: string (nullable = true)\n",
      " |-- actor1geo_adm1code: string (nullable = true)\n",
      " |-- actor1geo_adm2code: string (nullable = true)\n",
      " |-- actor1geo_countrycode: string (nullable = true)\n",
      " |-- actor1geo_featureid: string (nullable = true)\n",
      " |-- actor1geo_fullname: string (nullable = true)\n",
      " |-- actor1geo_lat: string (nullable = true)\n",
      " |-- actor1geo_long: string (nullable = true)\n",
      " |-- actor1geo_type: string (nullable = true)\n",
      " |-- actor1knowngroupcode: string (nullable = true)\n",
      " |-- actor1name: string (nullable = true)\n",
      " |-- actor1religion1code: string (nullable = true)\n",
      " |-- actor1religion2code: string (nullable = true)\n",
      " |-- actor1type1code: string (nullable = true)\n",
      " |-- actor1type2code: string (nullable = true)\n",
      " |-- actor1type3code: string (nullable = true)\n",
      " |-- actor2code: string (nullable = true)\n",
      " |-- actor2countrycode: string (nullable = true)\n",
      " |-- actor2ethniccode: string (nullable = true)\n",
      " |-- actor2geo_adm1code: string (nullable = true)\n",
      " |-- actor2geo_adm2code: string (nullable = true)\n",
      " |-- actor2geo_countrycode: string (nullable = true)\n",
      " |-- actor2geo_featureid: string (nullable = true)\n",
      " |-- actor2geo_fullname: string (nullable = true)\n",
      " |-- actor2geo_lat: string (nullable = true)\n",
      " |-- actor2geo_long: string (nullable = true)\n",
      " |-- actor2geo_type: string (nullable = true)\n",
      " |-- actor2knowngroupcode: string (nullable = true)\n",
      " |-- actor2name: string (nullable = true)\n",
      " |-- actor2religion1code: string (nullable = true)\n",
      " |-- actor2religion2code: string (nullable = true)\n",
      " |-- actor2type1code: string (nullable = true)\n",
      " |-- actor2type2code: string (nullable = true)\n",
      " |-- actor2type3code: string (nullable = true)\n",
      " |-- avgtone: string (nullable = true)\n",
      " |-- dateadded: string (nullable = true)\n",
      " |-- eventbasecode: string (nullable = true)\n",
      " |-- eventcode: string (nullable = true)\n",
      " |-- eventrootcode: string (nullable = true)\n",
      " |-- fractiondate: string (nullable = true)\n",
      " |-- goldsteinscale: string (nullable = true)\n",
      " |-- isrootevent: string (nullable = true)\n",
      " |-- monthyear: integer (nullable = true)\n",
      " |-- numarticles: string (nullable = true)\n",
      " |-- nummentions: string (nullable = true)\n",
      " |-- numsources: string (nullable = true)\n",
      " |-- quadclass: string (nullable = true)\n",
      " |-- sourceurl: string (nullable = true)\n",
      " |-- sqldate: integer (nullable = true)\n",
      " |-- year: integer (nullable = true)\n",
      " |-- globaleventid: integer (nullable = true)\n",
      " |-- actioncharoffset: integer (nullable = true)\n",
      " |-- actor1charoffset: integer (nullable = true)\n",
      " |-- actor2charoffset: integer (nullable = true)\n",
      " |-- confidence: integer (nullable = true)\n",
      " |-- eventtimedate: string (nullable = true)\n",
      " |-- extras: string (nullable = true)\n",
      " |-- inrawtext: integer (nullable = true)\n",
      " |-- mentiondoclen: integer (nullable = true)\n",
      " |-- mentiondoctone: float (nullable = true)\n",
      " |-- mentiondoctranslationinfo: string (nullable = true)\n",
      " |-- mentionidentifier: string (nullable = true)\n",
      " |-- mentionsourcename: string (nullable = true)\n",
      " |-- mentiontimedate: string (nullable = true)\n",
      " |-- mentiontype: integer (nullable = true)\n",
      " |-- sentenceid: integer (nullable = true)\n",
      " |-- Mois: string (nullable = true)\n",
      " |-- Jour: string (nullable = true)\n",
      "\n"
     ]
    }
   ],
   "source": [
    "jme.printSchema()"
   ]
  },
  {
   "cell_type": "code",
   "execution_count": 277,
   "metadata": {},
   "outputs": [
    {
     "name": "stdout",
     "output_type": "stream",
     "text": [
      "+-----------------+-----------------+\n",
      "|actor1countrycode|actor2countrycode|\n",
      "+-----------------+-----------------+\n",
      "|              FRA|              ARG|\n",
      "|              FRA|              ARG|\n",
      "+-----------------+-----------------+\n",
      "\n"
     ]
    }
   ],
   "source": [
    "jme.filter(f.col(\"actor1countrycode\") == pays1) \\\n",
    ".filter(f.col(\"actor2countrycode\") == pays2) \\\n",
    ".select(\"actor1countrycode\",\"actor2countrycode\") \\\n",
    ".show()"
   ]
  },
  {
   "cell_type": "code",
   "execution_count": 300,
   "metadata": {},
   "outputs": [
    {
     "name": "stdout",
     "output_type": "stream",
     "text": [
      "root\n",
      " |-- globaleventid: integer (nullable = true)\n",
      " |-- actiongeo_adm1code: string (nullable = true)\n",
      " |-- actiongeo_adm2code: string (nullable = true)\n",
      " |-- actiongeo_countrycode: string (nullable = true)\n",
      " |-- actiongeo_featureid: string (nullable = true)\n",
      " |-- actiongeo_fullname: string (nullable = true)\n",
      " |-- actiongeo_lat: string (nullable = true)\n",
      " |-- actiongeo_long: string (nullable = true)\n",
      " |-- actiongeo_type: string (nullable = true)\n",
      " |-- actor1code: string (nullable = true)\n",
      " |-- actor1countrycode: string (nullable = true)\n",
      " |-- actor1ethniccode: string (nullable = true)\n",
      " |-- actor1geo_adm1code: string (nullable = true)\n",
      " |-- actor1geo_adm2code: string (nullable = true)\n",
      " |-- actor1geo_countrycode: string (nullable = true)\n",
      " |-- actor1geo_featureid: string (nullable = true)\n",
      " |-- actor1geo_fullname: string (nullable = true)\n",
      " |-- actor1geo_lat: float (nullable = true)\n",
      " |-- actor1geo_long: float (nullable = true)\n",
      " |-- actor1geo_type: string (nullable = true)\n",
      " |-- actor1knowngroupcode: string (nullable = true)\n",
      " |-- actor1name: string (nullable = true)\n",
      " |-- actor1religion1code: string (nullable = true)\n",
      " |-- actor1religion2code: string (nullable = true)\n",
      " |-- actor1type1code: string (nullable = true)\n",
      " |-- actor1type2code: string (nullable = true)\n",
      " |-- actor1type3code: string (nullable = true)\n",
      " |-- actor2code: string (nullable = true)\n",
      " |-- actor2countrycode: string (nullable = true)\n",
      " |-- actor2ethniccode: string (nullable = true)\n",
      " |-- actor2geo_adm1code: string (nullable = true)\n",
      " |-- actor2geo_adm2code: string (nullable = true)\n",
      " |-- actor2geo_countrycode: string (nullable = true)\n",
      " |-- actor2geo_featureid: string (nullable = true)\n",
      " |-- actor2geo_fullname: string (nullable = true)\n",
      " |-- actor2geo_lat: string (nullable = true)\n",
      " |-- actor2geo_long: string (nullable = true)\n",
      " |-- actor2geo_type: string (nullable = true)\n",
      " |-- actor2knowngroupcode: string (nullable = true)\n",
      " |-- actor2name: string (nullable = true)\n",
      " |-- actor2religion1code: string (nullable = true)\n",
      " |-- actor2religion2code: string (nullable = true)\n",
      " |-- actor2type1code: string (nullable = true)\n",
      " |-- actor2type2code: string (nullable = true)\n",
      " |-- actor2type3code: string (nullable = true)\n",
      " |-- avgtone: string (nullable = true)\n",
      " |-- dateadded: string (nullable = true)\n",
      " |-- eventbasecode: string (nullable = true)\n",
      " |-- eventcode: string (nullable = true)\n",
      " |-- eventrootcode: string (nullable = true)\n",
      " |-- fractiondate: string (nullable = true)\n",
      " |-- goldsteinscale: string (nullable = true)\n",
      " |-- isrootevent: string (nullable = true)\n",
      " |-- monthyear: integer (nullable = true)\n",
      " |-- numarticles: integer (nullable = true)\n",
      " |-- nummentions: string (nullable = true)\n",
      " |-- numsources: string (nullable = true)\n",
      " |-- quadclass: string (nullable = true)\n",
      " |-- sourceurl: string (nullable = true)\n",
      " |-- sqldate: integer (nullable = true)\n",
      " |-- year: integer (nullable = true)\n",
      " |-- globaleventid: integer (nullable = true)\n",
      " |-- actioncharoffset: integer (nullable = true)\n",
      " |-- actor1charoffset: integer (nullable = true)\n",
      " |-- actor2charoffset: integer (nullable = true)\n",
      " |-- confidence: integer (nullable = true)\n",
      " |-- eventtimedate: string (nullable = true)\n",
      " |-- extras: string (nullable = true)\n",
      " |-- inrawtext: integer (nullable = true)\n",
      " |-- mentiondoclen: integer (nullable = true)\n",
      " |-- mentiondoctone: float (nullable = true)\n",
      " |-- mentiondoctranslationinfo: string (nullable = true)\n",
      " |-- mentionidentifier: string (nullable = true)\n",
      " |-- mentionsourcename: string (nullable = true)\n",
      " |-- mentiontimedate: string (nullable = true)\n",
      " |-- mentiontype: integer (nullable = true)\n",
      " |-- sentenceid: integer (nullable = true)\n",
      "\n",
      "+-----------+\n",
      "|numarticles|\n",
      "+-----------+\n",
      "|          2|\n",
      "|          4|\n",
      "|          6|\n",
      "|         10|\n",
      "|          8|\n",
      "|          6|\n",
      "|         10|\n",
      "|          6|\n",
      "|          1|\n",
      "|          5|\n",
      "|          2|\n",
      "|          2|\n",
      "|          1|\n",
      "|          2|\n",
      "|         10|\n",
      "|          3|\n",
      "|          2|\n",
      "|          2|\n",
      "|         12|\n",
      "|          1|\n",
      "+-----------+\n",
      "only showing top 20 rows\n",
      "\n"
     ]
    }
   ],
   "source": [
    "jme = jme.withColumn(\"numarticles\", jme[\"numarticles\"].cast(IntegerType()))\n",
    "\n",
    "jme = jme.withColumn(\"actor1geo_lat\", jme[\"actor1geo_lat\"].cast(FloatType()))\n",
    "jme = jme.withColumn(\"actor1geo_long\", jme[\"actor1geo_long\"].cast(FloatType()))\n",
    "\n",
    "jme.printSchema()\n",
    "jme.select(\"numarticles\").show()"
   ]
  },
  {
   "cell_type": "code",
   "execution_count": 308,
   "metadata": {},
   "outputs": [
    {
     "name": "stdout",
     "output_type": "stream",
     "text": [
      "+-----------------+-----------------+----+----+----+----------------+------------------+\n",
      "|actor1countrycode|actor2countrycode|Year|Mois|Jour|sum(numarticles)|      avg(avgtone)|\n",
      "+-----------------+-----------------+----+----+----+----------------+------------------+\n",
      "|              ARG|              SAU|2018|  12|  01|               2|  3.53260869565218|\n",
      "|              FRA|              FRA|2018|  12|  01|               4| -12.9859387923904|\n",
      "|                 |                 |2018|  12|  01|              65|-7.238353193449001|\n",
      "|              FRA|              UKR|2018|  12|  01|               2| 0.145137880986939|\n",
      "|                 |              FRA|2018|  12|  01|              46| -8.80340978709901|\n",
      "|              FRA|                 |2018|  12|  01|              87|-6.621478761519355|\n",
      "|              FRA|              ARG|2018|  12|  01|               8| -4.28689200329761|\n",
      "+-----------------+-----------------+----+----+----+----------------+------------------+\n",
      "\n"
     ]
    }
   ],
   "source": [
    "lat1 = 40\n",
    "lat2 = 50\n",
    "long1 = 0\n",
    "long2 = 15\n",
    "\n",
    "jme.filter((f.col(\"actor1geo_lat\") >= lat1) & (f.col(\"actor1geo_lat\") <= lat2)) \\\n",
    ".filter((f.col(\"actor1geo_long\") >= long1) & (f.col(\"actor1geo_long\") <= long2)) \\\n",
    ".groupBy(\"actor1countrycode\",\"actor2countrycode\",\"Year\",\"Mois\",\"Jour\") \\\n",
    ".agg({\"numarticles\":'sum', \"avgtone\":'avg'}) \\\n",
    ".select(\"actor1countrycode\",\"actor2countrycode\",\"Year\",\"Mois\",\"Jour\",\"sum(numarticles)\",\"avg(avgtone)\") \\\n",
    ".show()"
   ]
  },
  {
   "cell_type": "code",
   "execution_count": 302,
   "metadata": {},
   "outputs": [
    {
     "name": "stdout",
     "output_type": "stream",
     "text": [
      "+-------------+\n",
      "|actor1geo_lat|\n",
      "+-------------+\n",
      "|         25.0|\n",
      "|      27.8333|\n",
      "|      13.3687|\n",
      "|         31.5|\n",
      "|       31.106|\n",
      "|       18.975|\n",
      "|      52.5167|\n",
      "|         36.0|\n",
      "|         35.0|\n",
      "|      50.8333|\n",
      "|         15.5|\n",
      "|         60.0|\n",
      "|         25.0|\n",
      "|      33.2415|\n",
      "|         null|\n",
      "|       18.975|\n",
      "|      33.3386|\n",
      "|     -34.5875|\n",
      "|         33.0|\n",
      "|         24.0|\n",
      "+-------------+\n",
      "only showing top 20 rows\n",
      "\n"
     ]
    }
   ],
   "source": [
    "jme.filter((f.col(\"actor1geo_lat\") >= lat1) & (f.col(\"actor1geo_lat\") <= lat2)) \\\n",
    ".filter((f.col(\"actor1geo_long\") >= long1) & (f.col(\"actor1geo_long\") <= long2)) \\\n",
    ".groupBy(\"actor1countrycode\",\"actor2countrycode\",\"Year\",\"Mois\",\"Jour\") \\\n",
    ".agg({\"numarticles\":'sum', \"avgtone\":'avg'}) \\\n",
    ".select(\"actor1countrycode\",\"actor2countrycode\",\"Year\",\"Mois\",\"Jour\",\"sum(numarticles)\",\"avg(avgtone)\") \\\n",
    ".show()"
   ]
  },
  {
   "cell_type": "code",
   "execution_count": 309,
   "metadata": {},
   "outputs": [
    {
     "name": "stdout",
     "output_type": "stream",
     "text": [
      "+-----------------+-----------------+----+----+----+----------------+-----------------+\n",
      "|actor1countrycode|actor2countrycode|Year|Mois|Jour|sum(numarticles)|     avg(avgtone)|\n",
      "+-----------------+-----------------+----+----+----+----------------+-----------------+\n",
      "|              FRA|              ARG|2018|  12|  01|              16|-4.28689200329761|\n",
      "+-----------------+-----------------+----+----+----+----------------+-----------------+\n",
      "\n"
     ]
    }
   ],
   "source": [
    "pays1 = 'FRA'\n",
    "pays2 = 'ARG'\n",
    "\n",
    "jme.filter((f.col(\"actor1countrycode\") == pays1)) \\\n",
    ".filter((f.col(\"actor2countrycode\") == pays2)) \\\n",
    ".groupBy(\"actor1countrycode\",\"actor2countrycode\",\"Year\",\"Mois\",\"Jour\") \\\n",
    ".agg({\"numarticles\":'sum', \"avgtone\":'avg'}) \\\n",
    ".select(\"actor1countrycode\",\"actor2countrycode\",\"Year\",\"Mois\",\"Jour\",\"sum(numarticles)\",\"avg(avgtone)\") \\\n",
    ".show()"
   ]
  },
  {
   "cell_type": "code",
   "execution_count": null,
   "metadata": {},
   "outputs": [],
   "source": []
  }
 ],
 "metadata": {
  "kernelspec": {
   "display_name": "Python 3",
   "language": "python",
   "name": "python3"
  },
  "language_info": {
   "codemirror_mode": {
    "name": "ipython",
    "version": 3
   },
   "file_extension": ".py",
   "mimetype": "text/x-python",
   "name": "python",
   "nbconvert_exporter": "python",
   "pygments_lexer": "ipython3",
   "version": "3.6.9"
  }
 },
 "nbformat": 4,
 "nbformat_minor": 2
}
