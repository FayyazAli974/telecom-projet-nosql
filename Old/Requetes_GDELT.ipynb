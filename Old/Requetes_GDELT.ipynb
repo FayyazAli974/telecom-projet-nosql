{
 "cells": [
  {
   "cell_type": "code",
   "execution_count": 324,
   "metadata": {},
   "outputs": [],
   "source": [
    "from cassandra.cluster import Cluster\n",
    "from pyspark import SparkContext\n",
    "from pyspark.sql import SQLContext\n",
    "import wget\n",
    "from pyspark.sql import SparkSession\n",
    "import os\n",
    "# Configuratins related to Cassandra connector & Cluster\n",
    "os.environ['PYSPARK_SUBMIT_ARGS'] = '--packages com.datastax.spark:spark-cassandra-connector_2.11:2.3.0 --conf spark.cassandra.connection.host=127.0.0.1 pyspark-shell'\n",
    "import re\n",
    "from pyspark.sql.functions import *\n",
    "import pandas as pd\n",
    "import matplotlib.pyplot as plt"
   ]
  },
  {
   "cell_type": "code",
   "execution_count": 2,
   "metadata": {},
   "outputs": [],
   "source": [
    "cluster = Cluster(['127.0.01'])\n",
    "session = cluster.connect()"
   ]
  },
  {
   "cell_type": "code",
   "execution_count": 3,
   "metadata": {},
   "outputs": [
    {
     "data": {
      "text/plain": [
       "<cassandra.cluster.ResultSet at 0x116d4c5c0>"
      ]
     },
     "execution_count": 3,
     "metadata": {},
     "output_type": "execute_result"
    }
   ],
   "source": [
    "session.execute(\"\"\"\n",
    "    CREATE KEYSPACE IF NOT EXISTS Gdelt \n",
    "    WITH REPLICATION = \n",
    "    { 'class' : 'SimpleStrategy', 'replication_factor' : 1 }\"\"\"\n",
    ")"
   ]
  },
  {
   "cell_type": "code",
   "execution_count": 4,
   "metadata": {},
   "outputs": [],
   "source": [
    "session.set_keyspace('gdelt')"
   ]
  },
  {
   "cell_type": "code",
   "execution_count": 5,
   "metadata": {},
   "outputs": [
    {
     "data": {
      "text/plain": [
       "<cassandra.cluster.ResultSet at 0x116d49080>"
      ]
     },
     "execution_count": 5,
     "metadata": {},
     "output_type": "execute_result"
    }
   ],
   "source": [
    "query = \"DROP TABLE masterfile\"\n",
    "session.execute(query)"
   ]
  },
  {
   "cell_type": "code",
   "execution_count": 6,
   "metadata": {},
   "outputs": [
    {
     "data": {
      "text/plain": [
       "<cassandra.cluster.ResultSet at 0x116d49eb8>"
      ]
     },
     "execution_count": 6,
     "metadata": {},
     "output_type": "execute_result"
    }
   ],
   "source": [
    "query = \"CREATE TABLE IF NOT EXISTS masterfile \\\n",
    "                                   (id int, hash text, url text, PRIMARY KEY (id))\"\n",
    "session.execute(query)"
   ]
  },
  {
   "cell_type": "code",
   "execution_count": 7,
   "metadata": {},
   "outputs": [],
   "source": [
    "fileName = '/Users/fayyazali/Desktop/MS Big Data - Telecom Paris/NoSQL/Projet GDELT/masterfilelist.txt'\n",
    "input_file = open(fileName, 'r')\n",
    "lines = input_file.readlines()\n",
    "input_file.close()"
   ]
  },
  {
   "cell_type": "code",
   "execution_count": 8,
   "metadata": {},
   "outputs": [],
   "source": [
    "i=1\n",
    "for line in lines:\n",
    "    columns = line.split(' ')\n",
    "    #if columns[] == \"\\xc2\\xa0\":\n",
    "    #    columns[7] = \"\"\n",
    "    if len(columns) == 3:\n",
    "        columns[2] = columns[2].rstrip(\"\\r\\n\")\n",
    "        #print(columns)\n",
    "        query = \"INSERT INTO masterfile (id, hash, url)\"\n",
    "        query = query + \" VALUES (%s, %s, %s)\"\n",
    "        session.execute(query, (int(columns[0]), columns[1], columns[2]))\n",
    "    \n",
    "    i = i+1"
   ]
  },
  {
   "cell_type": "code",
   "execution_count": 9,
   "metadata": {},
   "outputs": [
    {
     "data": {
      "text/plain": [
       "<cassandra.cluster.ResultSet at 0x12088f400>"
      ]
     },
     "execution_count": 9,
     "metadata": {},
     "output_type": "execute_result"
    }
   ],
   "source": [
    "query = \"CREATE CUSTOM INDEX url_idx ON gdelt.masterfile (url) USING 'org.apache.cassandra.index.sasi.SASIIndex' WITH OPTIONS = {'mode': 'CONTAINS', 'analyzer_class': 'org.apache.cassandra.index.sasi.analyzer.NonTokenizingAnalyzer', 'case_sensitive': 'false'};\"\n",
    "session.execute(query)"
   ]
  },
  {
   "cell_type": "code",
   "execution_count": 10,
   "metadata": {},
   "outputs": [],
   "source": [
    "query = \"SELECT * FROM masterfile WHERE url LIKE '%20181201%' LIMIT 20 ALLOW FILTERING;\"\n",
    "master_mois = session.execute(query)"
   ]
  },
  {
   "cell_type": "code",
   "execution_count": 11,
   "metadata": {},
   "outputs": [],
   "source": [
    "for row in master_mois:\n",
    "    wget.download(row.url, '/Users/fayyazali/Desktop/MS Big Data - Telecom Paris/NoSQL/Projet GDELT/data/')"
   ]
  },
  {
   "cell_type": "code",
   "execution_count": 12,
   "metadata": {},
   "outputs": [],
   "source": [
    "#spark = SparkSession.builder.appName('demo').master(\"local\").getOrCreate()\n",
    "#masterfile_spark = spark.read.format(\"org.apache.spark.sql.cassandra\").options(table=\"masterfile\", keyspace=\"gdelt\").load()\n",
    "sc = SparkContext(\"local\", \"gdelt\")"
   ]
  },
  {
   "cell_type": "code",
   "execution_count": 16,
   "metadata": {},
   "outputs": [],
   "source": [
    "sqlContext = SQLContext(sc)"
   ]
  },
  {
   "cell_type": "code",
   "execution_count": 17,
   "metadata": {},
   "outputs": [],
   "source": [
    "def load_and_get_table_df(keys_space_name, table_name):\n",
    "    table_df = sqlContext.read\\\n",
    "        .format(\"org.apache.spark.sql.cassandra\")\\\n",
    "        .options(table=table_name, keyspace=keys_space_name)\\\n",
    "        .load()\n",
    "    return table_df"
   ]
  },
  {
   "cell_type": "code",
   "execution_count": 19,
   "metadata": {},
   "outputs": [],
   "source": [
    "# Loading movies & ratings table data frames\n",
    "masterfile_spark = load_and_get_table_df(\"gdelt\", \"masterfile\")"
   ]
  },
  {
   "cell_type": "code",
   "execution_count": 20,
   "metadata": {},
   "outputs": [
    {
     "name": "stdout",
     "output_type": "stream",
     "text": [
      "+--------+--------------------+--------------------+\n",
      "|      id|                hash|                 url|\n",
      "+--------+--------------------+--------------------+\n",
      "| 7140530|4fb8fe4cb1874e7c9...|http://data.gdelt...|\n",
      "| 6502240|1f0111ab223e99688...|http://data.gdelt...|\n",
      "| 7997186|268807684f4ee6f7c...|http://data.gdelt...|\n",
      "|  134087|85edbbed442dcca19...|http://data.gdelt...|\n",
      "|  308686|e046df9bf237b79ef...|http://data.gdelt...|\n",
      "|  363843|2f987935bb4cc6ec4...|http://data.gdelt...|\n",
      "| 3573083|0a81ff4e298e1d9c9...|http://data.gdelt...|\n",
      "|   28069|1ca07605afbfeb864...|http://data.gdelt...|\n",
      "|   68563|93aa2f7153ce2e24a...|http://data.gdelt...|\n",
      "|  319952|d6a5d9c326bbe1062...|http://data.gdelt...|\n",
      "|  237266|06246011ba84b28e9...|http://data.gdelt...|\n",
      "|  129095|e52b67839ee8514c4...|http://data.gdelt...|\n",
      "|15994034|cdc9e1efde1fb9f84...|http://data.gdelt...|\n",
      "|13944615|3b58d6d2101f6fcfb...|http://data.gdelt...|\n",
      "|  149823|16e8c0f0980a5334f...|http://data.gdelt...|\n",
      "|  323435|63e5da877c5769d99...|http://data.gdelt...|\n",
      "|  145495|145e767b7a45dd97b...|http://data.gdelt...|\n",
      "|13989591|935ce2d1fcf111358...|http://data.gdelt...|\n",
      "|  131383|c07c2bfc715fc1bd0...|http://data.gdelt...|\n",
      "|  196087|7fdbda732912b8a0f...|http://data.gdelt...|\n",
      "+--------+--------------------+--------------------+\n",
      "only showing top 20 rows\n",
      "\n"
     ]
    }
   ],
   "source": [
    "masterfile_spark.show()"
   ]
  },
  {
   "cell_type": "code",
   "execution_count": 22,
   "metadata": {},
   "outputs": [],
   "source": [
    "from zipfile import ZipFile\n",
    "from os import listdir\n",
    "from os import remove"
   ]
  },
  {
   "cell_type": "code",
   "execution_count": 23,
   "metadata": {},
   "outputs": [],
   "source": [
    "liste_zip = listdir('/Users/fayyazali/Desktop/MS Big Data - Telecom Paris/NoSQL/Projet GDELT/data/')\n",
    "liste_zip = liste_zip[1:]\n",
    "for file in liste_zip:\n",
    "    with ZipFile('/Users/fayyazali/Desktop/MS Big Data - Telecom Paris/NoSQL/Projet GDELT/data/'+file, 'r') as zip: \n",
    "        zip.extractall('/Users/fayyazali/Desktop/MS Big Data - Telecom Paris/NoSQL/Projet GDELT/data_unzip/')\n",
    "        #remove('/Users/fayyazali/Desktop/MS Big Data - Telecom Paris/NoSQL/Projet GDELT/data/'+file)"
   ]
  },
  {
   "cell_type": "code",
   "execution_count": 28,
   "metadata": {},
   "outputs": [],
   "source": [
    "liste_csv = listdir('/Users/fayyazali/Desktop/MS Big Data - Telecom Paris/NoSQL/Projet GDELT/data_unzip/')\n",
    "liste_csv.remove('.DS_Store')\n",
    " \n",
    "liste_csv_mentions = []\n",
    "liste_csv_gkg = []\n",
    "liste_csv_events = [] \n",
    "\n",
    "for csv in liste_csv:\n",
    "    if 'mentions' in csv:\n",
    "        liste_csv_mentions.append(csv)\n",
    "    \n",
    "    if 'gkg' in csv:\n",
    "        liste_csv_gkg.append(csv)\n",
    "        \n",
    "    if 'export' in csv:\n",
    "        liste_csv_events.append(csv)"
   ]
  },
  {
   "cell_type": "code",
   "execution_count": 239,
   "metadata": {},
   "outputs": [
    {
     "data": {
      "text/plain": [
       "<cassandra.cluster.ResultSet at 0x1178e7dd8>"
      ]
     },
     "execution_count": 239,
     "metadata": {},
     "output_type": "execute_result"
    }
   ],
   "source": [
    "query = \"DROP TABLE mentions\"\n",
    "session.execute(query)"
   ]
  },
  {
   "cell_type": "code",
   "execution_count": 240,
   "metadata": {},
   "outputs": [
    {
     "data": {
      "text/plain": [
       "<cassandra.cluster.ResultSet at 0x1178ef7b8>"
      ]
     },
     "execution_count": 240,
     "metadata": {},
     "output_type": "execute_result"
    }
   ],
   "source": [
    "query = \"CREATE TABLE IF NOT EXISTS mentions \\\n",
    "                                   (GLOBALEVENTID int, EventTimeDate text, MentionTimeDate text, \\\n",
    "                                   MentionType int, MentionSourceName text, MentionIdentifier text, \\\n",
    "                                   SentenceID int, Actor1CharOffset int, Actor2CharOffset int, ActionCharOffset int, \\\n",
    "                                   InRawText int, Confidence int, MentionDocLen int, MentionDocTone float, \\\n",
    "                                   MentionDocTranslationInfo text, Extras text, \\\n",
    "                                   PRIMARY KEY (GLOBALEVENTID))\"\n",
    "session.execute(query)"
   ]
  },
  {
   "cell_type": "code",
   "execution_count": 241,
   "metadata": {},
   "outputs": [
    {
     "ename": "IndexError",
     "evalue": "list index out of range",
     "output_type": "error",
     "traceback": [
      "\u001b[0;31m---------------------------------------------------------------------------\u001b[0m",
      "\u001b[0;31mIndexError\u001b[0m                                Traceback (most recent call last)",
      "\u001b[0;32m<ipython-input-241-5fb22064dd8e>\u001b[0m in \u001b[0;36m<module>\u001b[0;34m\u001b[0m\n\u001b[1;32m     24\u001b[0m                     \u001b[0mcolumns\u001b[0m\u001b[0;34m[\u001b[0m\u001b[0;36m4\u001b[0m\u001b[0;34m]\u001b[0m\u001b[0;34m,\u001b[0m \u001b[0mcolumns\u001b[0m\u001b[0;34m[\u001b[0m\u001b[0;36m5\u001b[0m\u001b[0;34m]\u001b[0m\u001b[0;34m,\u001b[0m \u001b[0mcolumns\u001b[0m\u001b[0;34m[\u001b[0m\u001b[0;36m6\u001b[0m\u001b[0;34m]\u001b[0m\u001b[0;34m,\u001b[0m \u001b[0mint\u001b[0m\u001b[0;34m(\u001b[0m\u001b[0mcolumns\u001b[0m\u001b[0;34m[\u001b[0m\u001b[0;36m7\u001b[0m\u001b[0;34m]\u001b[0m\u001b[0;34m)\u001b[0m\u001b[0;34m,\u001b[0m \u001b[0mint\u001b[0m\u001b[0;34m(\u001b[0m\u001b[0mcolumns\u001b[0m\u001b[0;34m[\u001b[0m\u001b[0;36m8\u001b[0m\u001b[0;34m]\u001b[0m\u001b[0;34m)\u001b[0m\u001b[0;34m,\u001b[0m\u001b[0;34m\u001b[0m\u001b[0;34m\u001b[0m\u001b[0m\n\u001b[1;32m     25\u001b[0m                    \u001b[0mint\u001b[0m\u001b[0;34m(\u001b[0m\u001b[0mcolumns\u001b[0m\u001b[0;34m[\u001b[0m\u001b[0;36m9\u001b[0m\u001b[0;34m]\u001b[0m\u001b[0;34m)\u001b[0m\u001b[0;34m,\u001b[0m \u001b[0mint\u001b[0m\u001b[0;34m(\u001b[0m\u001b[0mcolumns\u001b[0m\u001b[0;34m[\u001b[0m\u001b[0;36m10\u001b[0m\u001b[0;34m]\u001b[0m\u001b[0;34m)\u001b[0m\u001b[0;34m,\u001b[0m \u001b[0mint\u001b[0m\u001b[0;34m(\u001b[0m\u001b[0mcolumns\u001b[0m\u001b[0;34m[\u001b[0m\u001b[0;36m11\u001b[0m\u001b[0;34m]\u001b[0m\u001b[0;34m)\u001b[0m\u001b[0;34m,\u001b[0m \u001b[0mint\u001b[0m\u001b[0;34m(\u001b[0m\u001b[0mcolumns\u001b[0m\u001b[0;34m[\u001b[0m\u001b[0;36m12\u001b[0m\u001b[0;34m]\u001b[0m\u001b[0;34m)\u001b[0m\u001b[0;34m,\u001b[0m\u001b[0;34m\u001b[0m\u001b[0;34m\u001b[0m\u001b[0m\n\u001b[0;32m---> 26\u001b[0;31m                         float(columns[13]), columns[14], columns[15]))\n\u001b[0m\u001b[1;32m     27\u001b[0m     \u001b[0mi\u001b[0m \u001b[0;34m=\u001b[0m \u001b[0mi\u001b[0m \u001b[0;34m+\u001b[0m \u001b[0;36m1\u001b[0m\u001b[0;34m\u001b[0m\u001b[0;34m\u001b[0m\u001b[0m\n",
      "\u001b[0;31mIndexError\u001b[0m: list index out of range"
     ]
    }
   ],
   "source": [
    "for csv in liste_csv_mentions:\n",
    "    input_file = open('/Users/fayyazali/Desktop/MS Big Data - Telecom Paris/NoSQL/Projet GDELT/data_unzip/'+csv, 'r')\n",
    "    i = 1\n",
    "    #print(i)             \n",
    "\n",
    "\n",
    "    for line in input_file:\n",
    "        columns = line.split('\\t')\n",
    "        #print(columns)\n",
    "        #if columns[7] == \"\\xc2\\xa0\":\n",
    "         #   columns[7] = \"\"\n",
    "        #columns[8] = columns[8].rstrip(\"\\r\\n\")\n",
    "        columns[0] = int(columns[0])\n",
    "        #columns[1] = int(columns[1])\n",
    "        #columns[2] = int(columns[2])\n",
    "        columns[3] = int(columns[3])\n",
    "        columns[6] = int(columns[6])\n",
    "    \n",
    "        query = \"INSERT INTO mentions (GLOBALEVENTID, EventTimeDate, MentionTimeDate, MentionType, MentionSourceName, \\\n",
    "        MentionIdentifier, SentenceID, Actor1CharOffset, Actor2CharOffset, ActionCharOffset, InRawText, \\\n",
    "        Confidence, MentionDocLen, MentionDocTone, MentionDocTranslationInfo, Extras)\"\n",
    "        query = query + \" VALUES (%s, %s, %s, %s, %s, %s, %s, %s, %s, %s, %s, %s, %s, %s, %s, %s )\"\n",
    "        session.execute(query, (columns[0], columns[1], columns[2], columns[3], \n",
    "                    columns[4], columns[5], columns[6], int(columns[7]), int(columns[8]),\n",
    "                   int(columns[9]), int(columns[10]), int(columns[11]), int(columns[12]),\n",
    "                        float(columns[13]), columns[14], columns[15]))\n",
    "    i = i + 1"
   ]
  },
  {
   "cell_type": "code",
   "execution_count": 111,
   "metadata": {},
   "outputs": [
    {
     "data": {
      "text/plain": [
       "<cassandra.cluster.ResultSet at 0x120a68048>"
      ]
     },
     "execution_count": 111,
     "metadata": {},
     "output_type": "execute_result"
    }
   ],
   "source": [
    "query = \"DROP TABLE gkg\"\n",
    "session.execute(query)"
   ]
  },
  {
   "cell_type": "code",
   "execution_count": 112,
   "metadata": {},
   "outputs": [
    {
     "data": {
      "text/plain": [
       "<cassandra.cluster.ResultSet at 0x1178faef0>"
      ]
     },
     "execution_count": 112,
     "metadata": {},
     "output_type": "execute_result"
    }
   ],
   "source": [
    "query = \"CREATE TABLE IF NOT EXISTS gkg \\\n",
    "                                   (GKGRECORDID text, DATE text, SourceCollectionIdentifier int, \\\n",
    "                                   SourceCommonName text, DocumentIdentifier text, Counts text, \\\n",
    "                                   V2Counts text, Themes text, V2Themes text, Locations text, \\\n",
    "                                   V2Locations text, Persons text, V2Persons text, Organizations text, \\\n",
    "                                   V2Organizations text, V2Tone text, Dates text, GCAM text, \\\n",
    "                                   SharingImage text, RelatedImages text, SocialImageEmbeds text,  \\\n",
    "                                   SocialVideoEmbeds text, Quotations text, AllNames text, Amounts text, \\\n",
    "                                   TranslationInfo text, Extras text, \\\n",
    "                                   PRIMARY KEY (GKGRECORDID))\"\n",
    "session.execute(query)"
   ]
  },
  {
   "cell_type": "code",
   "execution_count": 116,
   "metadata": {},
   "outputs": [],
   "source": [
    "for csv in liste_csv_gkg:\n",
    "    input_file = open('/Users/fayyazali/Desktop/MS Big Data - Telecom Paris/NoSQL/Projet GDELT/data_unzip/'+csv, 'r',encoding=\"utf8\", errors='ignore')\n",
    "    i = 1\n",
    "    #print(i)             \n",
    "\n",
    "\n",
    "    for line in input_file:\n",
    "        columns = line.split('\\t')\n",
    "        #columns = ';'.join(map(str,columns))\n",
    "        #columns = columns.split(\";\")\n",
    "        #print(len(columns))\n",
    "        #if columns[7] == \"\\xc2\\xa0\":\n",
    "         #   columns[7] = \"\"\n",
    "        #columns[8] = columns[8].rstrip(\"\\r\\n\")\n",
    "       \n",
    "    \n",
    "        query = \"INSERT INTO gkg (GKGRECORDID, DATE, SourceCollectionIdentifier, \\\n",
    "                                   SourceCommonName, DocumentIdentifier, Counts, \\\n",
    "                                   V2Counts, Themes, V2Themes, Locations, \\\n",
    "                                   V2Locations, Persons, V2Persons, Organizations, \\\n",
    "                                   V2Organizations, V2Togkgne, Dates, GCAM, \\\n",
    "                                   SharingImage, RelatedImages, SocialImageEmbeds,  \\\n",
    "                                   SocialVideoEmbeds, Quotations, AllNames, Amounts, \\\n",
    "                                   TranslationInfo, Extras)\"\n",
    "        query = query + \" VALUES (%s, %s, %s, %s, %s, %s, %s, %s, %s, %s, %s, %s, %s, %s, %s, %s, %s, \\\n",
    "        %s, %s, %s, %s, %s, %s, %s, %s, %s, %s)\"\n",
    "        session.execute(query, (columns[0], columns[1], int(columns[2]), columns[3], \n",
    "                    columns[4], columns[5], columns[6], columns[7], columns[8],\n",
    "                   columns[9], columns[10], columns[11], columns[12],\n",
    "                        columns[13], columns[14], columns[15], columns[16] , columns[17]\n",
    "                               , columns[18], columns[19], columns[20], columns[21]\n",
    "                               , columns[22], columns[23], columns[24], columns[25], columns[26]))\n",
    "        i = i + 1"
   ]
  },
  {
   "cell_type": "code",
   "execution_count": 206,
   "metadata": {},
   "outputs": [
    {
     "data": {
      "text/plain": [
       "<cassandra.cluster.ResultSet at 0x1208062b0>"
      ]
     },
     "execution_count": 206,
     "metadata": {},
     "output_type": "execute_result"
    }
   ],
   "source": [
    "query = \"DROP TABLE events\"\n",
    "session.execute(query)"
   ]
  },
  {
   "cell_type": "code",
   "execution_count": 207,
   "metadata": {},
   "outputs": [
    {
     "data": {
      "text/plain": [
       "<cassandra.cluster.ResultSet at 0x120861518>"
      ]
     },
     "execution_count": 207,
     "metadata": {},
     "output_type": "execute_result"
    }
   ],
   "source": [
    "query = \"CREATE TABLE IF NOT EXISTS events \\\n",
    "                                   (GLOBALEVENTID int, SQLDATE int, MonthYear int, \\\n",
    "                                   Year int, FractionDate text, Actor1Code text, \\\n",
    "                                   Actor1Name text, Actor1CountryCode text, Actor1KnownGroupCode text, Actor1EthnicCode text, \\\n",
    "                                   Actor1Religion1Code text, Actor1Religion2Code text, Actor1Type1Code text, \\\n",
    "                                   Actor1Type2Code text, Actor1Type3Code text, Actor2Code text , \\\n",
    "                                   Actor2Name text, Actor2CountryCode text, Actor2KnownGroupCode text, Actor2EthnicCode text, \\\n",
    "                                   Actor2Religion1Code text, Actor2Religion2Code text, Actor2Type1Code text, \\\n",
    "                                   Actor2Type2Code text, Actor2Type3Code text, IsRootEvent text, EventCode text, \\\n",
    "                                   EventBaseCode text, EventRootCode text, QuadClass text, GoldsteinScale text, \\\n",
    "                                   NumMentions text, NumSources text, NumArticles text, AvgTone text, Actor1Geo_Type text, \\\n",
    "                                   Actor1Geo_FullName text, Actor1Geo_CountryCode text, Actor1Geo_ADM1Code text, \\\n",
    "                                   Actor1Geo_ADM2Code text, Actor1Geo_Lat text, Actor1Geo_Long text, Actor1Geo_FeatureID text, \\\n",
    "                                   Actor2Geo_Type text, Actor2Geo_FullName text, Actor2Geo_CountryCode text, \\\n",
    "                                   Actor2Geo_ADM1Code text, Actor2Geo_ADM2Code text, Actor2Geo_Lat text, \\\n",
    "                                   Actor2Geo_Long text, Actor2Geo_FeatureID text, ActionGeo_Type text, ActionGeo_FullName text, \\\n",
    "                                   ActionGeo_CountryCode text, ActionGeo_ADM1Code text, ActionGeo_ADM2Code text, ActionGeo_Lat text, \\\n",
    "                                   ActionGeo_Long text, ActionGeo_FeatureID text, DATEADDED text, SOURCEURL text,  \\\n",
    "                                   PRIMARY KEY (GLOBALEVENTID))\"\n",
    "session.execute(query)"
   ]
  },
  {
   "cell_type": "code",
   "execution_count": 208,
   "metadata": {},
   "outputs": [],
   "source": [
    "for csv in liste_csv_events:\n",
    "    input_file = open('/Users/fayyazali/Desktop/MS Big Data - Telecom Paris/NoSQL/Projet GDELT/data_unzip/'+csv, 'r',encoding=\"utf8\", errors='ignore')\n",
    "    i = 1\n",
    "    #print(i)             \n",
    "\n",
    "\n",
    "    for line in input_file:\n",
    "        columns = line.split('\\t')\n",
    "  \n",
    "        columns[0] = int(columns[0])\n",
    "        columns[1] = int(columns[1])\n",
    "        columns[2] = int(columns[2])\n",
    "        columns[3] = int(columns[3])\n",
    "    \n",
    "        query = \"INSERT INTO events (GLOBALEVENTID, SQLDATE, MonthYear, \\\n",
    "                                   Year, FractionDate, Actor1Code, \\\n",
    "                                   Actor1Name, Actor1CountryCode, Actor1KnownGroupCode, Actor1EthnicCode, \\\n",
    "                                   Actor1Religion1Code, Actor1Religion2Code, Actor1Type1Code, \\\n",
    "                                   Actor1Type2Code, Actor1Type3Code, Actor2Code, \\\n",
    "                                   Actor2Name, Actor2CountryCode, Actor2KnownGroupCode, Actor2EthnicCode, \\\n",
    "                                   Actor2Religion1Code, Actor2Religion2Code, Actor2Type1Code, \\\n",
    "                                   Actor2Type2Code, Actor2Type3Code, IsRootEvent, EventCode, \\\n",
    "                                   EventBaseCode, EventRootCode, QuadClass, GoldsteinScale, \\\n",
    "                                   NumMentions, NumSources, NumArticles, AvgTone, Actor1Geo_Type, \\\n",
    "                                   Actor1Geo_FullName, Actor1Geo_CountryCode, Actor1Geo_ADM1Code, \\\n",
    "                                   Actor1Geo_ADM2Code, Actor1Geo_Lat, Actor1Geo_Long, Actor1Geo_FeatureID, \\\n",
    "                                   Actor2Geo_Type, Actor2Geo_FullName, Actor2Geo_CountryCode, \\\n",
    "                                   Actor2Geo_ADM1Code, Actor2Geo_ADM2Code, Actor2Geo_Lat, \\\n",
    "                                   Actor2Geo_Long, Actor2Geo_FeatureID, ActionGeo_Type, ActionGeo_FullName, \\\n",
    "                                   ActionGeo_CountryCode, ActionGeo_ADM1Code, ActionGeo_ADM2Code, ActionGeo_Lat, \\\n",
    "                                   ActionGeo_Long, ActionGeo_FeatureID, DATEADDED, SOURCEURL)\"\n",
    "        query = query + \" VALUES (%s, %s, %s, %s, %s, %s, %s, %s, %s, %s, \\\n",
    "        %s, %s, %s, %s, %s, %s, %s, %s, %s, %s, \\\n",
    "        %s, %s, %s, %s, %s, %s, %s, %s, %s, %s, \\\n",
    "        %s, %s, %s, %s, %s, %s, %s, %s, %s, %s, \\\n",
    "        %s, %s, %s, %s, %s, %s, %s, %s, %s, %s, \\\n",
    "        %s, %s, %s, %s, %s, %s, %s, %s, %s, %s, \\\n",
    "        %s)\"\n",
    "        session.execute(query,(columns))\n",
    "        i = i + 1"
   ]
  },
  {
   "cell_type": "code",
   "execution_count": 242,
   "metadata": {},
   "outputs": [],
   "source": [
    "events_spark = load_and_get_table_df(\"gdelt\", \"events\")\n",
    "gkg_spark = load_and_get_table_df(\"gdelt\", \"gkg\")\n",
    "mentions_spark = load_and_get_table_df(\"gdelt\", \"mentions\")"
   ]
  },
  {
   "cell_type": "markdown",
   "metadata": {},
   "source": [
    "# afficher le nombre d’articles/évènements qu’il y a eu pour chaque triplet (jour, pays de l’évènement, langue de l’article)."
   ]
  },
  {
   "cell_type": "code",
   "execution_count": 218,
   "metadata": {},
   "outputs": [
    {
     "name": "stdout",
     "output_type": "stream",
     "text": [
      "+--------+-----+\n",
      "| SQLDATE|count|\n",
      "+--------+-----+\n",
      "|20181124|   50|\n",
      "|20181130|   27|\n",
      "|20181101|   54|\n",
      "|20171201|   74|\n",
      "|20181201| 8411|\n",
      "+--------+-----+\n",
      "\n"
     ]
    }
   ],
   "source": [
    "mentions_spark.groupby(\"SQLDATE\").count().show()"
   ]
  },
  {
   "cell_type": "code",
   "execution_count": 224,
   "metadata": {},
   "outputs": [
    {
     "name": "stdout",
     "output_type": "stream",
     "text": [
      "+--------+---------------------+-----+\n",
      "| SQLDATE|ActionGeo_CountryCode|count|\n",
      "+--------+---------------------+-----+\n",
      "|20181201|                   OS|    6|\n",
      "|20171201|                   VM|    7|\n",
      "|20181130|                   US|    3|\n",
      "|20181201|                   RQ|    2|\n",
      "|20181201|                   MY|   79|\n",
      "|20181201|                   BH|    8|\n",
      "|20181201|                   BT|    4|\n",
      "|20181201|                   BO|    3|\n",
      "|20181201|                   VC|    1|\n",
      "|20181130|                   NP|    6|\n",
      "|20181201|                   LY|    1|\n",
      "|20181201|                   MP|    3|\n",
      "|20181101|                   CI|    2|\n",
      "|20181201|                   TH|   15|\n",
      "|20181201|                   GT|    9|\n",
      "|20181201|                   AY|    1|\n",
      "|20181201|                   TZ|    6|\n",
      "|20181201|                   IS|  140|\n",
      "|20181201|                   SN|   21|\n",
      "|20171201|                   RS|    8|\n",
      "+--------+---------------------+-----+\n",
      "only showing top 20 rows\n",
      "\n"
     ]
    }
   ],
   "source": [
    "#events_spark.select('GLOBALEVENTID').show()\n",
    "events_spark.groupby(\"SQLDATE\",\"ActionGeo_CountryCode\",).count().show()"
   ]
  },
  {
   "cell_type": "code",
   "execution_count": 222,
   "metadata": {},
   "outputs": [
    {
     "name": "stdout",
     "output_type": "stream",
     "text": [
      "+-------------------------+-----+\n",
      "|MentionDocTranslationInfo|count|\n",
      "+-------------------------+-----+\n",
      "|                         |25451|\n",
      "+-------------------------+-----+\n",
      "\n"
     ]
    }
   ],
   "source": [
    "mentions_spark.groupby('MentionDocTranslationInfo').count().show()"
   ]
  },
  {
   "cell_type": "code",
   "execution_count": 307,
   "metadata": {},
   "outputs": [],
   "source": [
    "from pyspark.sql.functions import udf\n",
    "suff = udf(lambda x: '.'.join(map(str,x.split('.')[1:])))\n",
    "langue_eng = udf(lambda x: 'eng' if x=='' else x)\n",
    "langue = udf(lambda x: 'eng' if x =='' else x.split(':')[1].split(';')[0])"
   ]
  },
  {
   "cell_type": "code",
   "execution_count": 296,
   "metadata": {},
   "outputs": [
    {
     "data": {
      "text/plain": [
       "'rus'"
      ]
     },
     "execution_count": 296,
     "metadata": {},
     "output_type": "execute_result"
    }
   ],
   "source": [
    "x='srclc:rus;eng:GT-RUS 1.0'\n",
    "x.split(':')[1].split(';')[0]"
   ]
  },
  {
   "cell_type": "code",
   "execution_count": 246,
   "metadata": {},
   "outputs": [
    {
     "name": "stdout",
     "output_type": "stream",
     "text": [
      "+-------+\n",
      "|Suffixe|\n",
      "+-------+\n",
      "|    com|\n",
      "|    com|\n",
      "|    com|\n",
      "|    com|\n",
      "|    com|\n",
      "|    com|\n",
      "|    com|\n",
      "|    com|\n",
      "|    com|\n",
      "|    com|\n",
      "|    com|\n",
      "|    com|\n",
      "|    net|\n",
      "|    com|\n",
      "|     tw|\n",
      "|    com|\n",
      "|     in|\n",
      "|    com|\n",
      "|  co.uk|\n",
      "|    com|\n",
      "+-------+\n",
      "only showing top 20 rows\n",
      "\n"
     ]
    }
   ],
   "source": [
    "mentions_spark = mentions_spark.withColumn(\"Suffixe\",suff(mentions_spark[\"MentionSourceName\"]))\n",
    "mentions_spark.select('Suffixe').show() "
   ]
  },
  {
   "cell_type": "code",
   "execution_count": 309,
   "metadata": {},
   "outputs": [
    {
     "name": "stdout",
     "output_type": "stream",
     "text": [
      "+------+\n",
      "|langue|\n",
      "+------+\n",
      "|   eng|\n",
      "|   eng|\n",
      "|   eng|\n",
      "|   eng|\n",
      "|   eng|\n",
      "|   eng|\n",
      "|   eng|\n",
      "|   eng|\n",
      "|   eng|\n",
      "|   eng|\n",
      "|   eng|\n",
      "|   eng|\n",
      "|   eng|\n",
      "|   eng|\n",
      "|   eng|\n",
      "|   eng|\n",
      "|   eng|\n",
      "|   eng|\n",
      "|   eng|\n",
      "|   eng|\n",
      "+------+\n",
      "only showing top 20 rows\n",
      "\n"
     ]
    }
   ],
   "source": [
    "mentions_spark = mentions_spark.withColumn(\"langue\",langue(mentions_spark[\"MentionDocTranslationInfo\"]))\n",
    "mentions_spark.select('langue').show()"
   ]
  },
  {
   "cell_type": "code",
   "execution_count": 313,
   "metadata": {},
   "outputs": [],
   "source": [
    "jme = events_spark.join(mentions_spark, events_spark[\"GLOBALEVENTID\"] == mentions_spark[\"GLOBALEVENTID\"])"
   ]
  },
  {
   "cell_type": "code",
   "execution_count": 315,
   "metadata": {},
   "outputs": [
    {
     "name": "stdout",
     "output_type": "stream",
     "text": [
      "+--------+---------------------+-------+-----+\n",
      "| SQLDATE|ActionGeo_CountryCode|Suffixe|count|\n",
      "+--------+---------------------+-------+-----+\n",
      "|20181201|                   US|    com|  142|\n",
      "|20181201|                   CH|    com|   22|\n",
      "|20181201|                   AS| com.au|   21|\n",
      "|20181201|                   IN|    com|   19|\n",
      "|20181201|                   FR|    com|   17|\n",
      "|20181201|                   AJ|     am|   16|\n",
      "|20181201|                   NI|    com|   14|\n",
      "|20181201|                   RS|    com|   14|\n",
      "|20181201|                   AR|    com|   13|\n",
      "|20181201|                   SA|    com|   13|\n",
      "|20181201|                   SY|    com|   12|\n",
      "|20181201|                   IS|    com|   10|\n",
      "|20181201|                     |    com|    9|\n",
      "|20181201|                   KN|    com|    8|\n",
      "|20181201|                   CA|    com|    6|\n",
      "|20181201|                   UK|    com|    6|\n",
      "|20181201|                   YM|    com|    5|\n",
      "|20181201|                   KU|    com|    5|\n",
      "|20181201|                   MY| com.my|    5|\n",
      "|20181201|                   US|    org|    4|\n",
      "+--------+---------------------+-------+-----+\n",
      "only showing top 20 rows\n",
      "\n"
     ]
    }
   ],
   "source": [
    "jme.groupby(\"SQLDATE\",\"ActionGeo_CountryCode\",\"Suffixe\").count().sort('count', ascending=False).show()"
   ]
  },
  {
   "cell_type": "code",
   "execution_count": 316,
   "metadata": {},
   "outputs": [
    {
     "name": "stdout",
     "output_type": "stream",
     "text": [
      "+--------+---------------------+------+-----+\n",
      "| SQLDATE|ActionGeo_CountryCode|langue|count|\n",
      "+--------+---------------------+------+-----+\n",
      "|20181201|                   US|   eng|  154|\n",
      "|20181201|                   FR|   eng|   26|\n",
      "|20181201|                   CH|   eng|   22|\n",
      "|20181201|                   AS|   eng|   22|\n",
      "|20181201|                   NI|   eng|   20|\n",
      "|20181201|                   IN|   eng|   19|\n",
      "|20181201|                   RS|   eng|   18|\n",
      "|20181201|                   AR|   eng|   16|\n",
      "|20181201|                   AJ|   eng|   16|\n",
      "|20181201|                     |   eng|   15|\n",
      "|20181201|                   SA|   eng|   14|\n",
      "|20181201|                   SY|   eng|   13|\n",
      "|20181201|                   IS|   eng|   10|\n",
      "|20181201|                   KN|   eng|    9|\n",
      "|20181201|                   UK|   eng|    8|\n",
      "|20181201|                   KU|   eng|    8|\n",
      "|20181201|                   JA|   eng|    7|\n",
      "|20181201|                   CA|   eng|    7|\n",
      "|20181201|                   MY|   eng|    5|\n",
      "|20181201|                   YM|   eng|    5|\n",
      "+--------+---------------------+------+-----+\n",
      "only showing top 20 rows\n",
      "\n"
     ]
    }
   ],
   "source": [
    "jme.groupby(\"SQLDATE\",\"ActionGeo_CountryCode\",\"langue\").count().sort('count', ascending=False).show()"
   ]
  },
  {
   "cell_type": "code",
   "execution_count": 353,
   "metadata": {},
   "outputs": [
    {
     "name": "stdout",
     "output_type": "stream",
     "text": [
      "+--------+---------------------+-------+-----+\n",
      "| SQLDATE|ActionGeo_CountryCode|Suffixe|count|\n",
      "+--------+---------------------+-------+-----+\n",
      "|20181201|                   AS| com.au|   21|\n",
      "|20181201|                   IN|    com|   19|\n",
      "|20181201|                   AJ|     am|   16|\n",
      "|20181201|                   RS|    com|   14|\n",
      "|20181201|                   AR|    com|   13|\n",
      "|20181201|                   SY|    com|   12|\n",
      "|20181201|                   IS|    com|   10|\n",
      "|20181201|                     |    com|    9|\n",
      "|20181201|                   CA|    com|    6|\n",
      "|20181201|                   UK|    com|    6|\n",
      "|20181201|                   YM|    com|    5|\n",
      "|20181201|                   NI|     ng|    4|\n",
      "|20181201|                   MU|  co.uk|    4|\n",
      "|20181201|                   JA|    org|    4|\n",
      "|20181201|                   KU|  co.uk|    3|\n",
      "|20181201|                   KS|  co.nz|    3|\n",
      "|20181201|                   NZ|  pe.ca|    2|\n",
      "|20181201|                   AM|     am|    2|\n",
      "|20181201|                   FR| com.au|    2|\n",
      "|20181201|                   PL|    com|    2|\n",
      "+--------+---------------------+-------+-----+\n",
      "only showing top 20 rows\n",
      "\n"
     ]
    }
   ],
   "source": [
    "df = jme.groupby(\"SQLDATE\",\"ActionGeo_CountryCode\",\"Suffixe\").count().limit(50).sort('count', ascending=False)\n",
    "df.show()"
   ]
  },
  {
   "cell_type": "code",
   "execution_count": 347,
   "metadata": {},
   "outputs": [],
   "source": [
    "df_pandas = df.toPandas()"
   ]
  },
  {
   "cell_type": "code",
   "execution_count": 354,
   "metadata": {},
   "outputs": [
    {
     "data": {
      "text/plain": [
       "<matplotlib.axes._subplots.AxesSubplot at 0x1305ad518>"
      ]
     },
     "execution_count": 354,
     "metadata": {},
     "output_type": "execute_result"
    },
    {
     "data": {
      "image/png": "[encoded data removed]",
      "text/plain": [
       "<Figure size 432x288 with 1 Axes>"
      ]
     },
     "metadata": {
      "needs_background": "light"
     },
     "output_type": "display_data"
    }
   ],
   "source": [
    "df_pandas['count'].plot()"
   ]
  },
  {
   "cell_type": "markdown",
   "metadata": {},
   "source": [
    "# pour un pays donné en paramètre, affichez les évènements qui y ont eu place triées par le nombre de mentions (tri décroissant); permettez une agrégation par jour/mois/année"
   ]
  },
  {
   "cell_type": "code",
   "execution_count": null,
   "metadata": {},
   "outputs": [],
   "source": []
  },
  {
   "cell_type": "markdown",
   "metadata": {},
   "source": [
    "# pour une source de donnés passée en paramètre (gkg.SourceCommonName) affichez les thèmes, personnes, lieux dont les articles de cette sources parlent ainsi que le le nombre d’articles et le ton moyen des articles (pour chaque thème/personne/lieu); permettez une agrégation par jour/mois/année."
   ]
  },
  {
   "cell_type": "code",
   "execution_count": null,
   "metadata": {},
   "outputs": [],
   "source": []
  },
  {
   "cell_type": "markdown",
   "metadata": {},
   "source": [
    "# dresser la cartographie des relations entre les pays d’après le ton des articles : pour chaque paire (pays1, pays2), calculer le nombre d’article, le ton moyen (aggrégations sur Année/Mois/Jour, filtrage par pays ou carré de coordonnées)"
   ]
  },
  {
   "cell_type": "code",
   "execution_count": null,
   "metadata": {},
   "outputs": [],
   "source": []
  }
 ],
 "metadata": {
  "kernelspec": {
   "display_name": "Python 3",
   "language": "python",
   "name": "python3"
  },
  "language_info": {
   "codemirror_mode": {
    "name": "ipython",
    "version": 3
   },
   "file_extension": ".py",
   "mimetype": "text/x-python",
   "name": "python",
   "nbconvert_exporter": "python",
   "pygments_lexer": "ipython3",
   "version": "3.6.9"
  }
 },
 "nbformat": 4,
 "nbformat_minor": 2
}
